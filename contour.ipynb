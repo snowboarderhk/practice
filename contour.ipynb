{
  "nbformat": 4,
  "nbformat_minor": 0,
  "metadata": {
    "colab": {
      "name": "Untitled25.ipynb",
      "provenance": [],
      "authorship_tag": "ABX9TyOmJT0SK82KPhs4NPuPmnjv",
      "include_colab_link": true
    },
    "kernelspec": {
      "name": "python3",
      "display_name": "Python 3"
    }
  },
  "cells": [
    {
      "cell_type": "markdown",
      "metadata": {
        "id": "view-in-github",
        "colab_type": "text"
      },
      "source": [
        "<a href=\"https://colab.research.google.com/github/snowboarderhk/practice/blob/master/contour.ipynb\" target=\"_parent\"><img src=\"https://colab.research.google.com/assets/colab-badge.svg\" alt=\"Open In Colab\"/></a>"
      ]
    },
    {
      "cell_type": "code",
      "metadata": {
        "id": "PXvPsSCmbe9q",
        "colab_type": "code",
        "colab": {}
      },
      "source": [
        "#counter \n",
        "import numpy as np\n",
        "import csv\n",
        "import matplotlib.pyplot as plt\n",
        "\n",
        "path = '../file/input/aopbase.csv' #path指定\n",
        "\n",
        "\"\"\"\n",
        "CSVファイルのデータは\n",
        "エクセル上のA列１行目は0（任意の数字でも大丈夫）\n",
        "１行目にX軸のデータ\n",
        "A列目にY軸のデータ\n",
        "\"\"\"\n",
        "\n",
        "input_data = []\n",
        "\n",
        "#---データのインポート----\n",
        "with open(path,'r',newline=\"\") as f:\n",
        "    reader = csv.reader(f)\n",
        "    #---csvデータ格納---\n",
        "    for row in reader:\n",
        "        input_data.append(row)\n",
        "        \n",
        "input_data = np.array(input_data,dtype=float)\n",
        "\n",
        "mapdata = input_data[1:,1:]#マップ点データ\n",
        "Xdata = input_data[0,1:] #X軸データ\n",
        "Ydata = input_data[1:,0] #Y軸データ\n",
        "\n",
        "X,Y = np.meshgrid(Xdata,Ydata)\n",
        "\n",
        "#-等高線表示---\n",
        "lavelist = [30,35,40,45] #示したい等高線の間隔\n",
        "\n",
        "\n",
        "cont = plt.contour(X,Y,mapdata, levels=lavelist,)\n",
        "cont.clabel(fmt='%.2f', fontsize=14) #小数点以下の位指定、2桁であれば%.2f\n",
        "plt.xlabel('PM[mmHg]',fontsize=14) #横軸ラベル PM[mmHg]を任意に変更\n",
        "plt.ylabel('NErpm]',fontsize=14) #縦軸ラベル NE[rpm]を任意に変更\n",
        "#plt.text(500,4000, r'40',fontsize=14,color=\"green\")　#マップ内にテキスト、500,4000は位置指定 基本的には不要\n",
        "plt.show()"
      ],
      "execution_count": null,
      "outputs": []
    }
  ]
}