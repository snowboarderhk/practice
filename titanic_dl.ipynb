{
  "nbformat": 4,
  "nbformat_minor": 0,
  "metadata": {
    "colab": {
      "name": "Untitled24.ipynb",
      "provenance": [],
      "authorship_tag": "ABX9TyNnO//kCPecq3JEqpyPbpg/",
      "include_colab_link": true
    },
    "kernelspec": {
      "name": "python3",
      "display_name": "Python 3"
    }
  },
  "cells": [
    {
      "cell_type": "markdown",
      "metadata": {
        "id": "view-in-github",
        "colab_type": "text"
      },
      "source": [
        "<a href=\"https://colab.research.google.com/github/snowboarderhk/practice/blob/master/titanic_dl.ipynb\" target=\"_parent\"><img src=\"https://colab.research.google.com/assets/colab-badge.svg\" alt=\"Open In Colab\"/></a>"
      ]
    },
    {
      "cell_type": "code",
      "metadata": {
        "id": "tbWG7uRR6ML_",
        "colab_type": "code",
        "colab": {
          "base_uri": "https://localhost:8080/",
          "height": 697
        },
        "outputId": "c4dc01ed-c3f6-48b9-bc68-681442715c8d"
      },
      "source": [
        "#参考にしたサイト　https://www.codexa.net/kaggle-titanic-beginner/\n",
        "\n",
        "#===== SVM ======\n",
        "\n",
        "\n",
        "#ライブラリのインポート\n",
        "import pandas as pd\n",
        "import numpy as np\n",
        "\n",
        "#データセット読み込み\n",
        "train = pd.read_csv(\"/content/train.csv\")\n",
        "test = pd.read_csv(\"/content/test.csv\")\n",
        "\n",
        "#train.head()\n",
        "\n",
        "#データセットのサイズ確認\n",
        "test_shape = test.shape\n",
        "train_shape = train.shape\n",
        "#print(test_shape,train_shape)\n",
        "\n",
        "#統計量確認\n",
        "#train.describe() #test.describe()\n",
        "\n",
        "#----欠損データの確認----\n",
        "def kesson_table(df):\n",
        "    null_val = df.isnull().sum() #isnull()は欠損データか否かを返す\n",
        "    percent = 100* df.isnull().sum()/len(df)\n",
        "    kesson_table = pd.concat([null_val,percent],axis=1)#concat は連結、引数のaxisは連結方向\n",
        "    #print(kesson_table)\n",
        "    kesson_table_ren_columns = kesson_table.rename(\n",
        "    columns = {0:\"欠損数\",1:\"%\"})\n",
        "    return kesson_table_ren_columns\n",
        "\n",
        "#kesson_table(train)\n",
        "\n",
        "#trainの欠損データ前処理(AgeとEmbarked)※Cabinは欠損率が高いため予測モデルに使用しない\n",
        "\n",
        "#Age の欠損データは平均値を代理として使う\n",
        "train[\"Age\"]=train[\"Age\"].fillna(train[\"Age\"].mean()) #fillnaはすべてのnanを指定の値に置き換え\n",
        "\n",
        "#Embarkedの欠損データは最も多いSとする。\n",
        "train[\"Embarked\"] = train[\"Embarked\"].fillna(\"S\")\n",
        "\n",
        "#kesson_table(train)\n",
        "\n",
        "#カテゴリカルなデータを数字に置き換える\n",
        "train[\"Sex\"][train[\"Sex\"] == \"male\"] = 0\n",
        "train[\"Sex\"][train[\"Sex\"] == \"female\"] = 1\n",
        "train[\"Embarked\"][train[\"Embarked\"] == \"S\" ] = 0\n",
        "train[\"Embarked\"][train[\"Embarked\"] == \"C\" ] = 1\n",
        "train[\"Embarked\"][train[\"Embarked\"] == \"Q\"] = 2\n",
        "#train.head()\n",
        "\n",
        "test[\"Sex\"][test[\"Sex\"] == \"male\"] = 0\n",
        "test[\"Sex\"][test[\"Sex\"] == \"female\"] = 1\n",
        "test[\"Embarked\"][test[\"Embarked\"] == \"S\"] = 0\n",
        "test[\"Embarked\"][test[\"Embarked\"] == \"C\"] = 1\n",
        "test[\"Embarked\"][test[\"Embarked\"] == \"Q\"] = 2\n",
        "#test.head()\n",
        "\n",
        "#kesson_table(test)\n",
        "\n",
        "test[\"Age\"] = test[\"Age\"].fillna(test[\"Age\"].mean())\n",
        "test[\"Fare\"] = test[\"Fare\"].fillna(test[\"Fare\"].mean())\n",
        "#kesson_table(test)\n",
        "\n",
        "#trainデータセットを目的変数と説明変数に分ける\n",
        "target = train[\"Survived\"].values\n",
        "\n",
        "#features_one = train[[\"Pclass\",\"Age\",\"Sex\",\"Fare\", \"SibSp\", \"Parch\", \"Embarked\"]].values\n",
        "features_one = train[[\"Pclass\",\"Age\",\"Sex\",\"Parch\", \"Embarked\"]].values\n",
        "#testデータセットから説明変数の値を取得\n",
        "#test_features = test[[\"Pclass\",\"Age\",\"Sex\",\"Fare\", \"SibSp\", \"Parch\", \"Embarked\"]].values\n",
        "test_features = test[[\"Pclass\",\"Age\",\"Sex\",\"Parch\", \"Embarked\"]].values\n",
        "\n",
        "#正規化を試みる200518\n",
        "from sklearn import preprocessing\n",
        "ss = preprocessing.StandardScaler()\n",
        "\n",
        "features_one_std = ss.fit_transform(features_one)\n",
        "test_features_std = ss.fit_transform(test_features)"
      ],
      "execution_count": 25,
      "outputs": [
        {
          "output_type": "stream",
          "text": [
            "/usr/local/lib/python3.6/dist-packages/ipykernel_launcher.py:47: SettingWithCopyWarning: \n",
            "A value is trying to be set on a copy of a slice from a DataFrame\n",
            "\n",
            "See the caveats in the documentation: https://pandas.pydata.org/pandas-docs/stable/user_guide/indexing.html#returning-a-view-versus-a-copy\n",
            "/usr/local/lib/python3.6/dist-packages/ipykernel_launcher.py:48: SettingWithCopyWarning: \n",
            "A value is trying to be set on a copy of a slice from a DataFrame\n",
            "\n",
            "See the caveats in the documentation: https://pandas.pydata.org/pandas-docs/stable/user_guide/indexing.html#returning-a-view-versus-a-copy\n",
            "/usr/local/lib/python3.6/dist-packages/ipykernel_launcher.py:49: SettingWithCopyWarning: \n",
            "A value is trying to be set on a copy of a slice from a DataFrame\n",
            "\n",
            "See the caveats in the documentation: https://pandas.pydata.org/pandas-docs/stable/user_guide/indexing.html#returning-a-view-versus-a-copy\n",
            "/usr/local/lib/python3.6/dist-packages/ipykernel_launcher.py:50: SettingWithCopyWarning: \n",
            "A value is trying to be set on a copy of a slice from a DataFrame\n",
            "\n",
            "See the caveats in the documentation: https://pandas.pydata.org/pandas-docs/stable/user_guide/indexing.html#returning-a-view-versus-a-copy\n",
            "/usr/local/lib/python3.6/dist-packages/ipykernel_launcher.py:51: SettingWithCopyWarning: \n",
            "A value is trying to be set on a copy of a slice from a DataFrame\n",
            "\n",
            "See the caveats in the documentation: https://pandas.pydata.org/pandas-docs/stable/user_guide/indexing.html#returning-a-view-versus-a-copy\n",
            "/usr/local/lib/python3.6/dist-packages/ipykernel_launcher.py:54: SettingWithCopyWarning: \n",
            "A value is trying to be set on a copy of a slice from a DataFrame\n",
            "\n",
            "See the caveats in the documentation: https://pandas.pydata.org/pandas-docs/stable/user_guide/indexing.html#returning-a-view-versus-a-copy\n",
            "/usr/local/lib/python3.6/dist-packages/ipykernel_launcher.py:55: SettingWithCopyWarning: \n",
            "A value is trying to be set on a copy of a slice from a DataFrame\n",
            "\n",
            "See the caveats in the documentation: https://pandas.pydata.org/pandas-docs/stable/user_guide/indexing.html#returning-a-view-versus-a-copy\n",
            "/usr/local/lib/python3.6/dist-packages/ipykernel_launcher.py:56: SettingWithCopyWarning: \n",
            "A value is trying to be set on a copy of a slice from a DataFrame\n",
            "\n",
            "See the caveats in the documentation: https://pandas.pydata.org/pandas-docs/stable/user_guide/indexing.html#returning-a-view-versus-a-copy\n",
            "/usr/local/lib/python3.6/dist-packages/ipykernel_launcher.py:57: SettingWithCopyWarning: \n",
            "A value is trying to be set on a copy of a slice from a DataFrame\n",
            "\n",
            "See the caveats in the documentation: https://pandas.pydata.org/pandas-docs/stable/user_guide/indexing.html#returning-a-view-versus-a-copy\n",
            "/usr/local/lib/python3.6/dist-packages/ipykernel_launcher.py:58: SettingWithCopyWarning: \n",
            "A value is trying to be set on a copy of a slice from a DataFrame\n",
            "\n",
            "See the caveats in the documentation: https://pandas.pydata.org/pandas-docs/stable/user_guide/indexing.html#returning-a-view-versus-a-copy\n"
          ],
          "name": "stderr"
        }
      ]
    },
    {
      "cell_type": "code",
      "metadata": {
        "id": "5EP2qPdY6wQn",
        "colab_type": "code",
        "colab": {}
      },
      "source": [
        "import numpy as np\n",
        "import matplotlib.pyplot as plt\n",
        "from keras.models import Sequential\n",
        "from keras.layers import Dense, Activation, BatchNormalization\n",
        "from sklearn.model_selection import train_test_split\n",
        "from keras.utils import np_utils\n",
        "from keras.layers import Dropout"
      ],
      "execution_count": 26,
      "outputs": []
    },
    {
      "cell_type": "code",
      "metadata": {
        "id": "qA3Jf9IC61aX",
        "colab_type": "code",
        "colab": {}
      },
      "source": [
        "#one hot encoding\n",
        "target_one_hot = np_utils.to_categorical(target)\n"
      ],
      "execution_count": 27,
      "outputs": []
    },
    {
      "cell_type": "code",
      "metadata": {
        "id": "OVTcFI8d9LDk",
        "colab_type": "code",
        "colab": {}
      },
      "source": [
        "# モデルの作成\n",
        "model = Sequential()\n",
        "model.add(Dense(14, input_dim=5)) \n",
        "model.add(Activation(\"relu\"))\n",
        "model.add(BatchNormalization())\n",
        "model.add(Dropout(0.1))\n",
        "model.add(Dense(14, input_dim=14)) \n",
        "model.add(Activation(\"relu\"))\n",
        "model.add(BatchNormalization())\n",
        "model.add(Dropout(0.2))\n",
        "model.add(Dense(14, input_dim=14)) \n",
        "model.add(Activation(\"relu\"))\n",
        "model.add(BatchNormalization())\n",
        "model.add(Dropout(0.1))\n",
        "model.add(Dense(7, input_dim=14))\n",
        "model.add(BatchNormalization())\n",
        "model.add(Dropout(0.1))\n",
        "model.add(Dense(5, input_dim=7))\n",
        "model.add(BatchNormalization())\n",
        "#model.add(Dropout(0.1))\n",
        "model.add(Dense(3, input_dim=5))\n",
        "model.add(BatchNormalization())\n",
        "model.add(Dropout(0.1))\n",
        "model.add(Dense(2)) # 出力層2ノード,全結合\n",
        "model.add(Activation(\"sigmoid\"))"
      ],
      "execution_count": 28,
      "outputs": []
    },
    {
      "cell_type": "code",
      "metadata": {
        "id": "pKF0cWfC9q2b",
        "colab_type": "code",
        "colab": {}
      },
      "source": [
        "model.compile(loss=\"binary_crossentropy\",   # 誤差関数\n",
        "              optimizer=\"adam\",     # 最適化手法\n",
        "              metrics=['accuracy'])"
      ],
      "execution_count": 29,
      "outputs": []
    },
    {
      "cell_type": "code",
      "metadata": {
        "id": "qNl0nAiQ9s_o",
        "colab_type": "code",
        "colab": {
          "base_uri": "https://localhost:8080/",
          "height": 1000
        },
        "outputId": "d121896f-a7dc-4987-86f7-c0b437a88805"
      },
      "source": [
        "# 訓練\n",
        "history = model.fit(features_one_std, target_one_hot, epochs=40, batch_size=32) # 学習"
      ],
      "execution_count": 30,
      "outputs": [
        {
          "output_type": "stream",
          "text": [
            "Epoch 1/40\n",
            "28/28 [==============================] - 0s 2ms/step - loss: 0.8299 - accuracy: 0.5567\n",
            "Epoch 2/40\n",
            "28/28 [==============================] - 0s 2ms/step - loss: 0.7395 - accuracy: 0.6016\n",
            "Epoch 3/40\n",
            "28/28 [==============================] - 0s 2ms/step - loss: 0.6818 - accuracy: 0.6431\n",
            "Epoch 4/40\n",
            "28/28 [==============================] - 0s 2ms/step - loss: 0.6568 - accuracy: 0.6813\n",
            "Epoch 5/40\n",
            "28/28 [==============================] - 0s 2ms/step - loss: 0.6373 - accuracy: 0.6936\n",
            "Epoch 6/40\n",
            "28/28 [==============================] - 0s 2ms/step - loss: 0.6283 - accuracy: 0.7059\n",
            "Epoch 7/40\n",
            "28/28 [==============================] - 0s 2ms/step - loss: 0.6057 - accuracy: 0.7172\n",
            "Epoch 8/40\n",
            "28/28 [==============================] - 0s 2ms/step - loss: 0.6020 - accuracy: 0.7116\n",
            "Epoch 9/40\n",
            "28/28 [==============================] - 0s 2ms/step - loss: 0.5913 - accuracy: 0.7464\n",
            "Epoch 10/40\n",
            "28/28 [==============================] - 0s 2ms/step - loss: 0.5692 - accuracy: 0.7508\n",
            "Epoch 11/40\n",
            "28/28 [==============================] - 0s 2ms/step - loss: 0.5664 - accuracy: 0.7441\n",
            "Epoch 12/40\n",
            "28/28 [==============================] - 0s 2ms/step - loss: 0.5568 - accuracy: 0.7666\n",
            "Epoch 13/40\n",
            "28/28 [==============================] - 0s 2ms/step - loss: 0.5462 - accuracy: 0.7744\n",
            "Epoch 14/40\n",
            "28/28 [==============================] - 0s 2ms/step - loss: 0.5438 - accuracy: 0.7666\n",
            "Epoch 15/40\n",
            "28/28 [==============================] - 0s 2ms/step - loss: 0.5433 - accuracy: 0.7587\n",
            "Epoch 16/40\n",
            "28/28 [==============================] - 0s 2ms/step - loss: 0.5313 - accuracy: 0.7733\n",
            "Epoch 17/40\n",
            "28/28 [==============================] - 0s 2ms/step - loss: 0.5319 - accuracy: 0.7598\n",
            "Epoch 18/40\n",
            "28/28 [==============================] - 0s 2ms/step - loss: 0.5087 - accuracy: 0.7666\n",
            "Epoch 19/40\n",
            "28/28 [==============================] - 0s 3ms/step - loss: 0.5094 - accuracy: 0.7688\n",
            "Epoch 20/40\n",
            "28/28 [==============================] - 0s 2ms/step - loss: 0.5131 - accuracy: 0.7811\n",
            "Epoch 21/40\n",
            "28/28 [==============================] - 0s 2ms/step - loss: 0.5243 - accuracy: 0.7643\n",
            "Epoch 22/40\n",
            "28/28 [==============================] - 0s 2ms/step - loss: 0.5057 - accuracy: 0.7778\n",
            "Epoch 23/40\n",
            "28/28 [==============================] - 0s 3ms/step - loss: 0.5006 - accuracy: 0.7733\n",
            "Epoch 24/40\n",
            "28/28 [==============================] - 0s 2ms/step - loss: 0.5045 - accuracy: 0.7755\n",
            "Epoch 25/40\n",
            "28/28 [==============================] - 0s 2ms/step - loss: 0.4903 - accuracy: 0.7722\n",
            "Epoch 26/40\n",
            "28/28 [==============================] - 0s 2ms/step - loss: 0.4998 - accuracy: 0.7845\n",
            "Epoch 27/40\n",
            "28/28 [==============================] - 0s 2ms/step - loss: 0.5085 - accuracy: 0.7654\n",
            "Epoch 28/40\n",
            "28/28 [==============================] - 0s 2ms/step - loss: 0.4867 - accuracy: 0.7924\n",
            "Epoch 29/40\n",
            "28/28 [==============================] - 0s 2ms/step - loss: 0.4858 - accuracy: 0.7924\n",
            "Epoch 30/40\n",
            "28/28 [==============================] - 0s 2ms/step - loss: 0.4889 - accuracy: 0.7834\n",
            "Epoch 31/40\n",
            "28/28 [==============================] - 0s 2ms/step - loss: 0.4753 - accuracy: 0.8047\n",
            "Epoch 32/40\n",
            "28/28 [==============================] - 0s 2ms/step - loss: 0.4756 - accuracy: 0.8025\n",
            "Epoch 33/40\n",
            "28/28 [==============================] - 0s 2ms/step - loss: 0.4824 - accuracy: 0.7755\n",
            "Epoch 34/40\n",
            "28/28 [==============================] - 0s 2ms/step - loss: 0.4762 - accuracy: 0.7957\n",
            "Epoch 35/40\n",
            "28/28 [==============================] - 0s 2ms/step - loss: 0.4770 - accuracy: 0.7823\n",
            "Epoch 36/40\n",
            "28/28 [==============================] - 0s 2ms/step - loss: 0.4779 - accuracy: 0.7991\n",
            "Epoch 37/40\n",
            "28/28 [==============================] - 0s 2ms/step - loss: 0.4844 - accuracy: 0.7879\n",
            "Epoch 38/40\n",
            "28/28 [==============================] - 0s 2ms/step - loss: 0.4514 - accuracy: 0.8081\n",
            "Epoch 39/40\n",
            "28/28 [==============================] - 0s 2ms/step - loss: 0.4683 - accuracy: 0.8013\n",
            "Epoch 40/40\n",
            "28/28 [==============================] - 0s 2ms/step - loss: 0.4644 - accuracy: 0.8058\n"
          ],
          "name": "stdout"
        }
      ]
    },
    {
      "cell_type": "code",
      "metadata": {
        "id": "iPfjBoB1_uGO",
        "colab_type": "code",
        "colab": {
          "base_uri": "https://localhost:8080/",
          "height": 296
        },
        "outputId": "7666692c-cebc-4920-c243-9cb7112bc1e8"
      },
      "source": [
        "plt.plot(history.epoch, history.history[\"accuracy\"], label=\"accuracy\")\n",
        "plt.plot(history.epoch, history.history[\"loss\"], label=\"loss\")\n",
        "plt.xlabel(\"epoch\")\n",
        "plt.legend()"
      ],
      "execution_count": 31,
      "outputs": [
        {
          "output_type": "execute_result",
          "data": {
            "text/plain": [
              "<matplotlib.legend.Legend at 0x7f6629f0a4a8>"
            ]
          },
          "metadata": {
            "tags": []
          },
          "execution_count": 31
        },
        {
          "output_type": "display_data",
          "data": {
            "image/png": "[encoded data removed]",
            "text/plain": [
              "<Figure size 432x288 with 1 Axes>"
            ]
          },
          "metadata": {
            "tags": [],
            "needs_background": "light"
          }
        }
      ]
    },
    {
      "cell_type": "code",
      "metadata": {
        "id": "dzV_bU117Spk",
        "colab_type": "code",
        "colab": {}
      },
      "source": [
        "pred = model.predict(test_features_std)\n",
        "\n",
        "predd = np.argmax(pred, axis=1)\n",
        "\n",
        "# PassengerIDを取得\n",
        "PassengerId = np.array(test[\"PassengerId\"]).astype(int)\n",
        "\n",
        "# my_predictionとPassengerIdをデータフレームへ落とし込む\n",
        "my_solution = pd.DataFrame(predd,PassengerId,columns = [\"Survived\"])\n",
        "\n",
        "# my_tree_one.csvとして出力\n",
        "my_solution.to_csv(\"/content/my_dl_one.csv\",index_label = [\"PassengerId\"])"
      ],
      "execution_count": 32,
      "outputs": []
    },
    {
      "cell_type": "code",
      "metadata": {
        "id": "ZLqTVtsH7Ym2",
        "colab_type": "code",
        "colab": {}
      },
      "source": [
        ""
      ],
      "execution_count": null,
      "outputs": []
    }
  ]
}