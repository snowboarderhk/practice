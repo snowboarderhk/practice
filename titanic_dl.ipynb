{
  "nbformat": 4,
  "nbformat_minor": 0,
  "metadata": {
    "colab": {
      "name": "Untitled24.ipynb",
      "provenance": [],
      "authorship_tag": "ABX9TyO+CJvf+BUo0bSUkZ6/ww7p",
      "include_colab_link": true
    },
    "kernelspec": {
      "name": "python3",
      "display_name": "Python 3"
    }
  },
  "cells": [
    {
      "cell_type": "markdown",
      "metadata": {
        "id": "view-in-github",
        "colab_type": "text"
      },
      "source": [
        "<a href=\"https://colab.research.google.com/github/snowboarderhk/practice/blob/master/titanic_dl.ipynb\" target=\"_parent\"><img src=\"https://colab.research.google.com/assets/colab-badge.svg\" alt=\"Open In Colab\"/></a>"
      ]
    },
    {
      "cell_type": "code",
      "metadata": {
        "id": "tbWG7uRR6ML_",
        "colab_type": "code",
        "colab": {
          "base_uri": "https://localhost:8080/",
          "height": 697
        },
        "outputId": "f4e86a62-1cc5-46fe-c99b-2c4c1cb3264a"
      },
      "source": [
        "#参考にしたサイト　https://www.codexa.net/kaggle-titanic-beginner/\n",
        "\n",
        "#===== SVM ======\n",
        "\n",
        "\n",
        "#ライブラリのインポート\n",
        "import pandas as pd\n",
        "import numpy as np\n",
        "\n",
        "#データセット読み込み\n",
        "train = pd.read_csv(\"/content/train.csv\")\n",
        "test = pd.read_csv(\"/content/test.csv\")\n",
        "\n",
        "#train.head()\n",
        "\n",
        "#データセットのサイズ確認\n",
        "test_shape = test.shape\n",
        "train_shape = train.shape\n",
        "#print(test_shape,train_shape)\n",
        "\n",
        "#統計量確認\n",
        "#train.describe() #test.describe()\n",
        "\n",
        "#----欠損データの確認----\n",
        "def kesson_table(df):\n",
        "    null_val = df.isnull().sum() #isnull()は欠損データか否かを返す\n",
        "    percent = 100* df.isnull().sum()/len(df)\n",
        "    kesson_table = pd.concat([null_val,percent],axis=1)#concat は連結、引数のaxisは連結方向\n",
        "    #print(kesson_table)\n",
        "    kesson_table_ren_columns = kesson_table.rename(\n",
        "    columns = {0:\"欠損数\",1:\"%\"})\n",
        "    return kesson_table_ren_columns\n",
        "\n",
        "#kesson_table(train)\n",
        "\n",
        "#trainの欠損データ前処理(AgeとEmbarked)※Cabinは欠損率が高いため予測モデルに使用しない\n",
        "\n",
        "#Age の欠損データは平均値を代理として使う\n",
        "train[\"Age\"]=train[\"Age\"].fillna(train[\"Age\"].mean()) #fillnaはすべてのnanを指定の値に置き換え\n",
        "\n",
        "#Embarkedの欠損データは最も多いSとする。\n",
        "train[\"Embarked\"] = train[\"Embarked\"].fillna(\"S\")\n",
        "\n",
        "#kesson_table(train)\n",
        "\n",
        "#カテゴリカルなデータを数字に置き換える\n",
        "train[\"Sex\"][train[\"Sex\"] == \"male\"] = 0\n",
        "train[\"Sex\"][train[\"Sex\"] == \"female\"] = 1\n",
        "train[\"Embarked\"][train[\"Embarked\"] == \"S\" ] = 0\n",
        "train[\"Embarked\"][train[\"Embarked\"] == \"C\" ] = 1\n",
        "train[\"Embarked\"][train[\"Embarked\"] == \"Q\"] = 2\n",
        "#train.head()\n",
        "\n",
        "test[\"Sex\"][test[\"Sex\"] == \"male\"] = 0\n",
        "test[\"Sex\"][test[\"Sex\"] == \"female\"] = 1\n",
        "test[\"Embarked\"][test[\"Embarked\"] == \"S\"] = 0\n",
        "test[\"Embarked\"][test[\"Embarked\"] == \"C\"] = 1\n",
        "test[\"Embarked\"][test[\"Embarked\"] == \"Q\"] = 2\n",
        "#test.head()\n",
        "\n",
        "#kesson_table(test)\n",
        "\n",
        "test[\"Age\"] = test[\"Age\"].fillna(test[\"Age\"].mean())\n",
        "test[\"Fare\"] = test[\"Fare\"].fillna(test[\"Fare\"].mean())\n",
        "#kesson_table(test)\n",
        "\n",
        "#trainデータセットを目的変数と説明変数に分ける\n",
        "target = train[\"Survived\"].values\n",
        "\n",
        "features_one = train[[\"Pclass\",\"Age\",\"Sex\",\"Fare\", \"SibSp\", \"Parch\", \"Embarked\"]].values\n",
        "#testデータセットから説明変数の値を取得\n",
        "test_features = test[[\"Pclass\",\"Age\",\"Sex\",\"Fare\", \"SibSp\", \"Parch\", \"Embarked\"]].values\n",
        "\n",
        "#正規化を試みる200518\n",
        "from sklearn import preprocessing\n",
        "ss = preprocessing.StandardScaler()\n",
        "\n",
        "features_one_std = ss.fit_transform(features_one)\n",
        "test_features_std = ss.fit_transform(test_features)"
      ],
      "execution_count": 2,
      "outputs": [
        {
          "output_type": "stream",
          "text": [
            "/usr/local/lib/python3.6/dist-packages/ipykernel_launcher.py:47: SettingWithCopyWarning: \n",
            "A value is trying to be set on a copy of a slice from a DataFrame\n",
            "\n",
            "See the caveats in the documentation: https://pandas.pydata.org/pandas-docs/stable/user_guide/indexing.html#returning-a-view-versus-a-copy\n",
            "/usr/local/lib/python3.6/dist-packages/ipykernel_launcher.py:48: SettingWithCopyWarning: \n",
            "A value is trying to be set on a copy of a slice from a DataFrame\n",
            "\n",
            "See the caveats in the documentation: https://pandas.pydata.org/pandas-docs/stable/user_guide/indexing.html#returning-a-view-versus-a-copy\n",
            "/usr/local/lib/python3.6/dist-packages/ipykernel_launcher.py:49: SettingWithCopyWarning: \n",
            "A value is trying to be set on a copy of a slice from a DataFrame\n",
            "\n",
            "See the caveats in the documentation: https://pandas.pydata.org/pandas-docs/stable/user_guide/indexing.html#returning-a-view-versus-a-copy\n",
            "/usr/local/lib/python3.6/dist-packages/ipykernel_launcher.py:50: SettingWithCopyWarning: \n",
            "A value is trying to be set on a copy of a slice from a DataFrame\n",
            "\n",
            "See the caveats in the documentation: https://pandas.pydata.org/pandas-docs/stable/user_guide/indexing.html#returning-a-view-versus-a-copy\n",
            "/usr/local/lib/python3.6/dist-packages/ipykernel_launcher.py:51: SettingWithCopyWarning: \n",
            "A value is trying to be set on a copy of a slice from a DataFrame\n",
            "\n",
            "See the caveats in the documentation: https://pandas.pydata.org/pandas-docs/stable/user_guide/indexing.html#returning-a-view-versus-a-copy\n",
            "/usr/local/lib/python3.6/dist-packages/ipykernel_launcher.py:54: SettingWithCopyWarning: \n",
            "A value is trying to be set on a copy of a slice from a DataFrame\n",
            "\n",
            "See the caveats in the documentation: https://pandas.pydata.org/pandas-docs/stable/user_guide/indexing.html#returning-a-view-versus-a-copy\n",
            "/usr/local/lib/python3.6/dist-packages/ipykernel_launcher.py:55: SettingWithCopyWarning: \n",
            "A value is trying to be set on a copy of a slice from a DataFrame\n",
            "\n",
            "See the caveats in the documentation: https://pandas.pydata.org/pandas-docs/stable/user_guide/indexing.html#returning-a-view-versus-a-copy\n",
            "/usr/local/lib/python3.6/dist-packages/ipykernel_launcher.py:56: SettingWithCopyWarning: \n",
            "A value is trying to be set on a copy of a slice from a DataFrame\n",
            "\n",
            "See the caveats in the documentation: https://pandas.pydata.org/pandas-docs/stable/user_guide/indexing.html#returning-a-view-versus-a-copy\n",
            "/usr/local/lib/python3.6/dist-packages/ipykernel_launcher.py:57: SettingWithCopyWarning: \n",
            "A value is trying to be set on a copy of a slice from a DataFrame\n",
            "\n",
            "See the caveats in the documentation: https://pandas.pydata.org/pandas-docs/stable/user_guide/indexing.html#returning-a-view-versus-a-copy\n",
            "/usr/local/lib/python3.6/dist-packages/ipykernel_launcher.py:58: SettingWithCopyWarning: \n",
            "A value is trying to be set on a copy of a slice from a DataFrame\n",
            "\n",
            "See the caveats in the documentation: https://pandas.pydata.org/pandas-docs/stable/user_guide/indexing.html#returning-a-view-versus-a-copy\n"
          ],
          "name": "stderr"
        }
      ]
    },
    {
      "cell_type": "code",
      "metadata": {
        "id": "5EP2qPdY6wQn",
        "colab_type": "code",
        "colab": {}
      },
      "source": [
        "import numpy as np\n",
        "import matplotlib.pyplot as plt\n",
        "from keras.models import Sequential\n",
        "from keras.layers import Dense, Activation, BatchNormalization\n",
        "from sklearn.model_selection import train_test_split\n",
        "from keras.utils import np_utils\n",
        "from keras.layers import Dropout"
      ],
      "execution_count": 11,
      "outputs": []
    },
    {
      "cell_type": "code",
      "metadata": {
        "id": "qA3Jf9IC61aX",
        "colab_type": "code",
        "colab": {}
      },
      "source": [
        "#one hot encoding\n",
        "target_one_hot = np_utils.to_categorical(target)\n"
      ],
      "execution_count": 12,
      "outputs": []
    },
    {
      "cell_type": "code",
      "metadata": {
        "id": "OVTcFI8d9LDk",
        "colab_type": "code",
        "colab": {}
      },
      "source": [
        "# モデルの作成\n",
        "model = Sequential()\n",
        "model.add(Dense(14, input_dim=7)) \n",
        "model.add(Activation(\"relu\"))\n",
        "model.add(BatchNormalization())\n",
        "model.add(Dropout(0.1))\n",
        "model.add(Dense(14, input_dim=14)) \n",
        "model.add(Activation(\"relu\"))\n",
        "model.add(BatchNormalization())\n",
        "model.add(Dropout(0.2))\n",
        "model.add(Dense(14, input_dim=14)) \n",
        "model.add(Activation(\"relu\"))\n",
        "model.add(BatchNormalization())\n",
        "model.add(Dropout(0.1))\n",
        "model.add(Dense(7, input_dim=14))\n",
        "model.add(BatchNormalization())\n",
        "model.add(Dropout(0.2))\n",
        "model.add(Dense(5, input_dim=7))\n",
        "model.add(BatchNormalization())\n",
        "#model.add(Dropout(0.1))\n",
        "model.add(Dense(3, input_dim=5))\n",
        "model.add(BatchNormalization())\n",
        "model.add(Dropout(0.1))\n",
        "model.add(Dense(2)) # 出力層2ノード,全結合\n",
        "model.add(Activation(\"sigmoid\"))"
      ],
      "execution_count": 42,
      "outputs": []
    },
    {
      "cell_type": "code",
      "metadata": {
        "id": "pKF0cWfC9q2b",
        "colab_type": "code",
        "colab": {}
      },
      "source": [
        "model.compile(loss=\"binary_crossentropy\",   # 誤差関数\n",
        "              optimizer=\"adam\",     # 最適化手法\n",
        "              metrics=['accuracy'])"
      ],
      "execution_count": 43,
      "outputs": []
    },
    {
      "cell_type": "code",
      "metadata": {
        "id": "qNl0nAiQ9s_o",
        "colab_type": "code",
        "colab": {
          "base_uri": "https://localhost:8080/",
          "height": 1000
        },
        "outputId": "eb871e3e-8d3c-46af-a283-bf43874782b0"
      },
      "source": [
        "# 訓練\n",
        "history = model.fit(features_one_std, target_one_hot, nb_epoch=40, batch_size=32) # 学習"
      ],
      "execution_count": 44,
      "outputs": [
        {
          "output_type": "stream",
          "text": [
            "/usr/local/lib/python3.6/dist-packages/ipykernel_launcher.py:2: UserWarning: The `nb_epoch` argument in `fit` has been renamed `epochs`.\n",
            "  \n"
          ],
          "name": "stderr"
        },
        {
          "output_type": "stream",
          "text": [
            "Epoch 1/40\n",
            "891/891 [==============================] - 2s 2ms/step - loss: 0.7841 - accuracy: 0.5382\n",
            "Epoch 2/40\n",
            "891/891 [==============================] - 0s 89us/step - loss: 0.7160 - accuracy: 0.5752\n",
            "Epoch 3/40\n",
            "891/891 [==============================] - 0s 89us/step - loss: 0.6517 - accuracy: 0.6437\n",
            "Epoch 4/40\n",
            "891/891 [==============================] - 0s 101us/step - loss: 0.6086 - accuracy: 0.6987\n",
            "Epoch 5/40\n",
            "891/891 [==============================] - 0s 120us/step - loss: 0.5773 - accuracy: 0.7256\n",
            "Epoch 6/40\n",
            "891/891 [==============================] - 0s 104us/step - loss: 0.5560 - accuracy: 0.7419\n",
            "Epoch 7/40\n",
            "891/891 [==============================] - 0s 115us/step - loss: 0.5367 - accuracy: 0.7486\n",
            "Epoch 8/40\n",
            "891/891 [==============================] - 0s 118us/step - loss: 0.5343 - accuracy: 0.7649\n",
            "Epoch 9/40\n",
            "891/891 [==============================] - 0s 126us/step - loss: 0.5370 - accuracy: 0.7486\n",
            "Epoch 10/40\n",
            "891/891 [==============================] - 0s 108us/step - loss: 0.5402 - accuracy: 0.7666\n",
            "Epoch 11/40\n",
            "891/891 [==============================] - 0s 116us/step - loss: 0.5167 - accuracy: 0.7621\n",
            "Epoch 12/40\n",
            "891/891 [==============================] - 0s 119us/step - loss: 0.5199 - accuracy: 0.7755\n",
            "Epoch 13/40\n",
            "891/891 [==============================] - 0s 110us/step - loss: 0.5249 - accuracy: 0.7677\n",
            "Epoch 14/40\n",
            "891/891 [==============================] - 0s 145us/step - loss: 0.5164 - accuracy: 0.7795\n",
            "Epoch 15/40\n",
            "891/891 [==============================] - 0s 133us/step - loss: 0.5131 - accuracy: 0.7643\n",
            "Epoch 16/40\n",
            "891/891 [==============================] - 0s 117us/step - loss: 0.4994 - accuracy: 0.7828\n",
            "Epoch 17/40\n",
            "891/891 [==============================] - 0s 112us/step - loss: 0.4812 - accuracy: 0.7896\n",
            "Epoch 18/40\n",
            "891/891 [==============================] - 0s 104us/step - loss: 0.5019 - accuracy: 0.7733\n",
            "Epoch 19/40\n",
            "891/891 [==============================] - 0s 99us/step - loss: 0.5089 - accuracy: 0.7800\n",
            "Epoch 20/40\n",
            "891/891 [==============================] - 0s 114us/step - loss: 0.4915 - accuracy: 0.7845\n",
            "Epoch 21/40\n",
            "891/891 [==============================] - 0s 113us/step - loss: 0.4809 - accuracy: 0.7856\n",
            "Epoch 22/40\n",
            "891/891 [==============================] - 0s 94us/step - loss: 0.5052 - accuracy: 0.7750\n",
            "Epoch 23/40\n",
            "891/891 [==============================] - 0s 109us/step - loss: 0.4842 - accuracy: 0.7817\n",
            "Epoch 24/40\n",
            "891/891 [==============================] - 0s 92us/step - loss: 0.4970 - accuracy: 0.7840\n",
            "Epoch 25/40\n",
            "891/891 [==============================] - 0s 99us/step - loss: 0.4900 - accuracy: 0.7823\n",
            "Epoch 26/40\n",
            "891/891 [==============================] - 0s 110us/step - loss: 0.4642 - accuracy: 0.8030\n",
            "Epoch 27/40\n",
            "891/891 [==============================] - 0s 109us/step - loss: 0.4766 - accuracy: 0.7755\n",
            "Epoch 28/40\n",
            "891/891 [==============================] - 0s 111us/step - loss: 0.4781 - accuracy: 0.7985\n",
            "Epoch 29/40\n",
            "891/891 [==============================] - 0s 123us/step - loss: 0.4810 - accuracy: 0.7901\n",
            "Epoch 30/40\n",
            "891/891 [==============================] - 0s 124us/step - loss: 0.4726 - accuracy: 0.7890\n",
            "Epoch 31/40\n",
            "891/891 [==============================] - 0s 137us/step - loss: 0.4814 - accuracy: 0.8013\n",
            "Epoch 32/40\n",
            "891/891 [==============================] - 0s 118us/step - loss: 0.4790 - accuracy: 0.7935\n",
            "Epoch 33/40\n",
            "891/891 [==============================] - 0s 137us/step - loss: 0.4713 - accuracy: 0.8030\n",
            "Epoch 34/40\n",
            "891/891 [==============================] - 0s 139us/step - loss: 0.4667 - accuracy: 0.7912\n",
            "Epoch 35/40\n",
            "891/891 [==============================] - 0s 106us/step - loss: 0.4560 - accuracy: 0.7991\n",
            "Epoch 36/40\n",
            "891/891 [==============================] - 0s 109us/step - loss: 0.4696 - accuracy: 0.7974\n",
            "Epoch 37/40\n",
            "891/891 [==============================] - 0s 124us/step - loss: 0.4683 - accuracy: 0.8103\n",
            "Epoch 38/40\n",
            "891/891 [==============================] - 0s 108us/step - loss: 0.4713 - accuracy: 0.8019\n",
            "Epoch 39/40\n",
            "891/891 [==============================] - 0s 105us/step - loss: 0.4527 - accuracy: 0.8081\n",
            "Epoch 40/40\n",
            "891/891 [==============================] - 0s 114us/step - loss: 0.4629 - accuracy: 0.7952\n"
          ],
          "name": "stdout"
        }
      ]
    },
    {
      "cell_type": "code",
      "metadata": {
        "id": "iPfjBoB1_uGO",
        "colab_type": "code",
        "colab": {
          "base_uri": "https://localhost:8080/",
          "height": 296
        },
        "outputId": "254b3745-3264-45be-85e2-dadb1da0faf0"
      },
      "source": [
        "plt.plot(history.epoch, history.history[\"accuracy\"], label=\"accuracy\")\n",
        "plt.plot(history.epoch, history.history[\"loss\"], label=\"loss\")\n",
        "plt.xlabel(\"epoch\")\n",
        "plt.legend()"
      ],
      "execution_count": 45,
      "outputs": [
        {
          "output_type": "execute_result",
          "data": {
            "text/plain": [
              "<matplotlib.legend.Legend at 0x7f56f9c95da0>"
            ]
          },
          "metadata": {
            "tags": []
          },
          "execution_count": 45
        },
        {
          "output_type": "display_data",
          "data": {
            "image/png": "[encoded data removed]",
            "text/plain": [
              "<Figure size 432x288 with 1 Axes>"
            ]
          },
          "metadata": {
            "tags": [],
            "needs_background": "light"
          }
        }
      ]
    },
    {
      "cell_type": "code",
      "metadata": {
        "id": "dzV_bU117Spk",
        "colab_type": "code",
        "colab": {}
      },
      "source": [
        "pred = model.predict(test_features_std)\n",
        "\n",
        "predd = np.argmax(pred, axis=1)\n",
        "\n",
        "# PassengerIDを取得\n",
        "PassengerId = np.array(test[\"PassengerId\"]).astype(int)\n",
        "\n",
        "# my_predictionとPassengerIdをデータフレームへ落とし込む\n",
        "my_solution = pd.DataFrame(predd,PassengerId,columns = [\"Survived\"])\n",
        "\n",
        "# my_tree_one.csvとして出力\n",
        "my_solution.to_csv(\"/content/my_dl_one.csv\",index_label = [\"PassengerId\"])"
      ],
      "execution_count": 46,
      "outputs": []
    },
    {
      "cell_type": "code",
      "metadata": {
        "id": "ZLqTVtsH7Ym2",
        "colab_type": "code",
        "colab": {}
      },
      "source": [
        ""
      ],
      "execution_count": null,
      "outputs": []
    }
  ]
}