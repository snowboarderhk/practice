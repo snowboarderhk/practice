{
  "nbformat": 4,
  "nbformat_minor": 0,
  "metadata": {
    "colab": {
      "name": "Untitled24.ipynb",
      "provenance": [],
      "authorship_tag": "ABX9TyN5aGBP0w9qFQv3DydT/iJK",
      "include_colab_link": true
    },
    "kernelspec": {
      "name": "python3",
      "display_name": "Python 3"
    }
  },
  "cells": [
    {
      "cell_type": "markdown",
      "metadata": {
        "id": "view-in-github",
        "colab_type": "text"
      },
      "source": [
        "<a href=\"https://colab.research.google.com/github/snowboarderhk/practice/blob/master/titanic_dl.ipynb\" target=\"_parent\"><img src=\"https://colab.research.google.com/assets/colab-badge.svg\" alt=\"Open In Colab\"/></a>"
      ]
    },
    {
      "cell_type": "code",
      "metadata": {
        "id": "tbWG7uRR6ML_",
        "colab_type": "code",
        "colab": {
          "base_uri": "https://localhost:8080/",
          "height": 697
        },
        "outputId": "d12cf13b-a8f1-4313-d85a-6438d1e7e360"
      },
      "source": [
        "#参考にしたサイト　https://www.codexa.net/kaggle-titanic-beginner/\n",
        "\n",
        "#===== SVM ======\n",
        "\n",
        "\n",
        "#ライブラリのインポート\n",
        "import pandas as pd\n",
        "import numpy as np\n",
        "\n",
        "#データセット読み込み\n",
        "train = pd.read_csv(\"/content/train.csv\")\n",
        "test = pd.read_csv(\"/content/test.csv\")\n",
        "\n",
        "#train.head()\n",
        "\n",
        "#データセットのサイズ確認\n",
        "test_shape = test.shape\n",
        "train_shape = train.shape\n",
        "#print(test_shape,train_shape)\n",
        "\n",
        "#統計量確認\n",
        "#train.describe() #test.describe()\n",
        "\n",
        "#----欠損データの確認----\n",
        "def kesson_table(df):\n",
        "    null_val = df.isnull().sum() #isnull()は欠損データか否かを返す\n",
        "    percent = 100* df.isnull().sum()/len(df)\n",
        "    kesson_table = pd.concat([null_val,percent],axis=1)#concat は連結、引数のaxisは連結方向\n",
        "    #print(kesson_table)\n",
        "    kesson_table_ren_columns = kesson_table.rename(\n",
        "    columns = {0:\"欠損数\",1:\"%\"})\n",
        "    return kesson_table_ren_columns\n",
        "\n",
        "#kesson_table(train)\n",
        "\n",
        "#trainの欠損データ前処理(AgeとEmbarked)※Cabinは欠損率が高いため予測モデルに使用しない\n",
        "\n",
        "#Age の欠損データは平均値を代理として使う\n",
        "train[\"Age\"]=train[\"Age\"].fillna(train[\"Age\"].mean()) #fillnaはすべてのnanを指定の値に置き換え\n",
        "\n",
        "#Embarkedの欠損データは最も多いSとする。\n",
        "train[\"Embarked\"] = train[\"Embarked\"].fillna(\"S\")\n",
        "\n",
        "#kesson_table(train)\n",
        "\n",
        "#カテゴリカルなデータを数字に置き換える\n",
        "train[\"Sex\"][train[\"Sex\"] == \"male\"] = 0\n",
        "train[\"Sex\"][train[\"Sex\"] == \"female\"] = 1\n",
        "train[\"Embarked\"][train[\"Embarked\"] == \"S\" ] = 0\n",
        "train[\"Embarked\"][train[\"Embarked\"] == \"C\" ] = 1\n",
        "train[\"Embarked\"][train[\"Embarked\"] == \"Q\"] = 2\n",
        "#train.head()\n",
        "\n",
        "test[\"Sex\"][test[\"Sex\"] == \"male\"] = 0\n",
        "test[\"Sex\"][test[\"Sex\"] == \"female\"] = 1\n",
        "test[\"Embarked\"][test[\"Embarked\"] == \"S\"] = 0\n",
        "test[\"Embarked\"][test[\"Embarked\"] == \"C\"] = 1\n",
        "test[\"Embarked\"][test[\"Embarked\"] == \"Q\"] = 2\n",
        "#test.head()\n",
        "\n",
        "#kesson_table(test)\n",
        "\n",
        "test[\"Age\"] = test[\"Age\"].fillna(test[\"Age\"].mean())\n",
        "test[\"Fare\"] = test[\"Fare\"].fillna(test[\"Fare\"].mean())\n",
        "#kesson_table(test)\n",
        "\n",
        "#trainデータセットを目的変数と説明変数に分ける\n",
        "target = train[\"Survived\"].values\n",
        "\n",
        "features_one = train[[\"Pclass\",\"Age\",\"Sex\",\"Fare\", \"SibSp\", \"Parch\", \"Embarked\"]].values\n",
        "#testデータセットから説明変数の値を取得\n",
        "test_features = test[[\"Pclass\",\"Age\",\"Sex\",\"Fare\", \"SibSp\", \"Parch\", \"Embarked\"]].values\n",
        "\n",
        "#正規化を試みる200518\n",
        "from sklearn import preprocessing\n",
        "ss = preprocessing.StandardScaler()\n",
        "\n",
        "features_one_std = ss.fit_transform(features_one)\n",
        "test_features_std = ss.fit_transform(test_features)"
      ],
      "execution_count": null,
      "outputs": [
        {
          "output_type": "stream",
          "text": [
            "/usr/local/lib/python3.6/dist-packages/ipykernel_launcher.py:47: SettingWithCopyWarning: \n",
            "A value is trying to be set on a copy of a slice from a DataFrame\n",
            "\n",
            "See the caveats in the documentation: https://pandas.pydata.org/pandas-docs/stable/user_guide/indexing.html#returning-a-view-versus-a-copy\n",
            "/usr/local/lib/python3.6/dist-packages/ipykernel_launcher.py:48: SettingWithCopyWarning: \n",
            "A value is trying to be set on a copy of a slice from a DataFrame\n",
            "\n",
            "See the caveats in the documentation: https://pandas.pydata.org/pandas-docs/stable/user_guide/indexing.html#returning-a-view-versus-a-copy\n",
            "/usr/local/lib/python3.6/dist-packages/ipykernel_launcher.py:49: SettingWithCopyWarning: \n",
            "A value is trying to be set on a copy of a slice from a DataFrame\n",
            "\n",
            "See the caveats in the documentation: https://pandas.pydata.org/pandas-docs/stable/user_guide/indexing.html#returning-a-view-versus-a-copy\n",
            "/usr/local/lib/python3.6/dist-packages/ipykernel_launcher.py:50: SettingWithCopyWarning: \n",
            "A value is trying to be set on a copy of a slice from a DataFrame\n",
            "\n",
            "See the caveats in the documentation: https://pandas.pydata.org/pandas-docs/stable/user_guide/indexing.html#returning-a-view-versus-a-copy\n",
            "/usr/local/lib/python3.6/dist-packages/ipykernel_launcher.py:51: SettingWithCopyWarning: \n",
            "A value is trying to be set on a copy of a slice from a DataFrame\n",
            "\n",
            "See the caveats in the documentation: https://pandas.pydata.org/pandas-docs/stable/user_guide/indexing.html#returning-a-view-versus-a-copy\n",
            "/usr/local/lib/python3.6/dist-packages/ipykernel_launcher.py:54: SettingWithCopyWarning: \n",
            "A value is trying to be set on a copy of a slice from a DataFrame\n",
            "\n",
            "See the caveats in the documentation: https://pandas.pydata.org/pandas-docs/stable/user_guide/indexing.html#returning-a-view-versus-a-copy\n",
            "/usr/local/lib/python3.6/dist-packages/ipykernel_launcher.py:55: SettingWithCopyWarning: \n",
            "A value is trying to be set on a copy of a slice from a DataFrame\n",
            "\n",
            "See the caveats in the documentation: https://pandas.pydata.org/pandas-docs/stable/user_guide/indexing.html#returning-a-view-versus-a-copy\n",
            "/usr/local/lib/python3.6/dist-packages/ipykernel_launcher.py:56: SettingWithCopyWarning: \n",
            "A value is trying to be set on a copy of a slice from a DataFrame\n",
            "\n",
            "See the caveats in the documentation: https://pandas.pydata.org/pandas-docs/stable/user_guide/indexing.html#returning-a-view-versus-a-copy\n",
            "/usr/local/lib/python3.6/dist-packages/ipykernel_launcher.py:57: SettingWithCopyWarning: \n",
            "A value is trying to be set on a copy of a slice from a DataFrame\n",
            "\n",
            "See the caveats in the documentation: https://pandas.pydata.org/pandas-docs/stable/user_guide/indexing.html#returning-a-view-versus-a-copy\n",
            "/usr/local/lib/python3.6/dist-packages/ipykernel_launcher.py:58: SettingWithCopyWarning: \n",
            "A value is trying to be set on a copy of a slice from a DataFrame\n",
            "\n",
            "See the caveats in the documentation: https://pandas.pydata.org/pandas-docs/stable/user_guide/indexing.html#returning-a-view-versus-a-copy\n"
          ],
          "name": "stderr"
        }
      ]
    },
    {
      "cell_type": "code",
      "metadata": {
        "id": "5EP2qPdY6wQn",
        "colab_type": "code",
        "colab": {}
      },
      "source": [
        "import numpy as np\n",
        "import matplotlib.pyplot as plt\n",
        "from keras.models import Sequential\n",
        "from keras.layers import Dense, Activation\n",
        "from sklearn.model_selection import train_test_split\n",
        "from keras.utils import np_utils\n",
        "from keras.layers import Dropout"
      ],
      "execution_count": null,
      "outputs": []
    },
    {
      "cell_type": "code",
      "metadata": {
        "id": "qA3Jf9IC61aX",
        "colab_type": "code",
        "colab": {}
      },
      "source": [
        "#one hot encoding\n",
        "target_one_hot = np_utils.to_categorical(target)\n"
      ],
      "execution_count": null,
      "outputs": []
    },
    {
      "cell_type": "code",
      "metadata": {
        "id": "OVTcFI8d9LDk",
        "colab_type": "code",
        "colab": {}
      },
      "source": [
        "# モデルの作成\n",
        "model = Sequential()\n",
        "model.add(Dense(5, input_dim=7))    # 入力層7ノード, 隠れ層に4ノード, 全結合\n",
        "model.add(Activation(\"relu\"))    # 活性化関数はRelu\n",
        "model.add(Dropout(0.25))\n",
        "model.add(Dense(5, input_dim=5))\n",
        "model.add(Dropout(0.25))\n",
        "model.add(Dense(2)) # 出力層2ノード,全結合\n",
        "model.add(Activation(\"sigmoid\"))"
      ],
      "execution_count": null,
      "outputs": []
    },
    {
      "cell_type": "code",
      "metadata": {
        "id": "pKF0cWfC9q2b",
        "colab_type": "code",
        "colab": {}
      },
      "source": [
        "model.compile(loss=\"binary_crossentropy\",   # 誤差関数\n",
        "              optimizer=\"adam\",     # 最適化手法\n",
        "              metrics=['accuracy'])"
      ],
      "execution_count": null,
      "outputs": []
    },
    {
      "cell_type": "code",
      "metadata": {
        "id": "qNl0nAiQ9s_o",
        "colab_type": "code",
        "colab": {
          "base_uri": "https://localhost:8080/",
          "height": 1000
        },
        "outputId": "b3957150-5148-422e-df1a-6060fca9ea85"
      },
      "source": [
        "# 訓練\n",
        "history = model.fit(features_one_std, target_one_hot, nb_epoch=100, batch_size=100) # 学習"
      ],
      "execution_count": null,
      "outputs": [
        {
          "output_type": "stream",
          "text": [
            "Epoch 1/100\n",
            "822/822 [==============================] - 0s 39us/step - loss: 0.5273 - accuracy: 0.7670\n",
            "Epoch 2/100\n",
            "822/822 [==============================] - 0s 25us/step - loss: 0.4999 - accuracy: 0.7853\n",
            "Epoch 3/100\n",
            "822/822 [==============================] - 0s 25us/step - loss: 0.5022 - accuracy: 0.7792\n",
            "Epoch 4/100\n",
            "822/822 [==============================] - 0s 25us/step - loss: 0.5224 - accuracy: 0.7658\n",
            "Epoch 5/100\n",
            "822/822 [==============================] - 0s 24us/step - loss: 0.5048 - accuracy: 0.7713\n",
            "Epoch 6/100\n",
            "822/822 [==============================] - 0s 23us/step - loss: 0.5295 - accuracy: 0.7536\n",
            "Epoch 7/100\n",
            "822/822 [==============================] - 0s 22us/step - loss: 0.5154 - accuracy: 0.7597\n",
            "Epoch 8/100\n",
            "822/822 [==============================] - 0s 25us/step - loss: 0.5299 - accuracy: 0.7603\n",
            "Epoch 9/100\n",
            "100/822 [==>...........................] - ETA: 0s - loss: 0.5217 - accuracy: 0.7500"
          ],
          "name": "stdout"
        },
        {
          "output_type": "stream",
          "text": [
            "/usr/local/lib/python3.6/dist-packages/ipykernel_launcher.py:2: UserWarning: The `nb_epoch` argument in `fit` has been renamed `epochs`.\n",
            "  \n"
          ],
          "name": "stderr"
        },
        {
          "output_type": "stream",
          "text": [
            "822/822 [==============================] - 0s 22us/step - loss: 0.5368 - accuracy: 0.7482\n",
            "Epoch 10/100\n",
            "822/822 [==============================] - 0s 28us/step - loss: 0.5233 - accuracy: 0.7646\n",
            "Epoch 11/100\n",
            "822/822 [==============================] - 0s 20us/step - loss: 0.5177 - accuracy: 0.7609\n",
            "Epoch 12/100\n",
            "822/822 [==============================] - 0s 23us/step - loss: 0.5144 - accuracy: 0.7658\n",
            "Epoch 13/100\n",
            "822/822 [==============================] - 0s 24us/step - loss: 0.5265 - accuracy: 0.7640\n",
            "Epoch 14/100\n",
            "822/822 [==============================] - 0s 23us/step - loss: 0.5249 - accuracy: 0.7707\n",
            "Epoch 15/100\n",
            "822/822 [==============================] - 0s 22us/step - loss: 0.5085 - accuracy: 0.7768\n",
            "Epoch 16/100\n",
            "822/822 [==============================] - 0s 26us/step - loss: 0.5100 - accuracy: 0.7755\n",
            "Epoch 17/100\n",
            "822/822 [==============================] - 0s 24us/step - loss: 0.5156 - accuracy: 0.7682\n",
            "Epoch 18/100\n",
            "822/822 [==============================] - 0s 36us/step - loss: 0.5284 - accuracy: 0.7792\n",
            "Epoch 19/100\n",
            "822/822 [==============================] - 0s 23us/step - loss: 0.5184 - accuracy: 0.7731\n",
            "Epoch 20/100\n",
            "822/822 [==============================] - 0s 25us/step - loss: 0.5126 - accuracy: 0.7768\n",
            "Epoch 21/100\n",
            "822/822 [==============================] - 0s 25us/step - loss: 0.5137 - accuracy: 0.7725\n",
            "Epoch 22/100\n",
            "822/822 [==============================] - 0s 28us/step - loss: 0.5139 - accuracy: 0.7768\n",
            "Epoch 23/100\n",
            "822/822 [==============================] - 0s 33us/step - loss: 0.5242 - accuracy: 0.7579\n",
            "Epoch 24/100\n",
            "822/822 [==============================] - 0s 30us/step - loss: 0.5172 - accuracy: 0.7609\n",
            "Epoch 25/100\n",
            "822/822 [==============================] - 0s 27us/step - loss: 0.5262 - accuracy: 0.7609\n",
            "Epoch 26/100\n",
            "822/822 [==============================] - 0s 25us/step - loss: 0.5139 - accuracy: 0.7755\n",
            "Epoch 27/100\n",
            "822/822 [==============================] - 0s 24us/step - loss: 0.5036 - accuracy: 0.7749\n",
            "Epoch 28/100\n",
            "822/822 [==============================] - 0s 25us/step - loss: 0.5356 - accuracy: 0.7567\n",
            "Epoch 29/100\n",
            "822/822 [==============================] - 0s 29us/step - loss: 0.5108 - accuracy: 0.7786\n",
            "Epoch 30/100\n",
            "822/822 [==============================] - 0s 29us/step - loss: 0.5213 - accuracy: 0.7737\n",
            "Epoch 31/100\n",
            "822/822 [==============================] - 0s 26us/step - loss: 0.5088 - accuracy: 0.7798\n",
            "Epoch 32/100\n",
            "822/822 [==============================] - 0s 36us/step - loss: 0.5213 - accuracy: 0.7646\n",
            "Epoch 33/100\n",
            "822/822 [==============================] - 0s 28us/step - loss: 0.5085 - accuracy: 0.7737\n",
            "Epoch 34/100\n",
            "822/822 [==============================] - 0s 25us/step - loss: 0.5093 - accuracy: 0.7804\n",
            "Epoch 35/100\n",
            "822/822 [==============================] - 0s 24us/step - loss: 0.5225 - accuracy: 0.7597\n",
            "Epoch 36/100\n",
            "822/822 [==============================] - 0s 27us/step - loss: 0.5037 - accuracy: 0.7743\n",
            "Epoch 37/100\n",
            "822/822 [==============================] - 0s 22us/step - loss: 0.5213 - accuracy: 0.7762\n",
            "Epoch 38/100\n",
            "822/822 [==============================] - 0s 28us/step - loss: 0.5291 - accuracy: 0.7555\n",
            "Epoch 39/100\n",
            "822/822 [==============================] - 0s 23us/step - loss: 0.5292 - accuracy: 0.7658\n",
            "Epoch 40/100\n",
            "822/822 [==============================] - 0s 22us/step - loss: 0.5055 - accuracy: 0.7743\n",
            "Epoch 41/100\n",
            "822/822 [==============================] - 0s 21us/step - loss: 0.5185 - accuracy: 0.7780\n",
            "Epoch 42/100\n",
            "822/822 [==============================] - 0s 28us/step - loss: 0.5091 - accuracy: 0.7774\n",
            "Epoch 43/100\n",
            "822/822 [==============================] - 0s 22us/step - loss: 0.5088 - accuracy: 0.7658\n",
            "Epoch 44/100\n",
            "822/822 [==============================] - 0s 23us/step - loss: 0.5038 - accuracy: 0.7804\n",
            "Epoch 45/100\n",
            "822/822 [==============================] - 0s 28us/step - loss: 0.5208 - accuracy: 0.7652\n",
            "Epoch 46/100\n",
            "822/822 [==============================] - 0s 35us/step - loss: 0.5121 - accuracy: 0.7689\n",
            "Epoch 47/100\n",
            "822/822 [==============================] - 0s 29us/step - loss: 0.5104 - accuracy: 0.7841\n",
            "Epoch 48/100\n",
            "822/822 [==============================] - 0s 24us/step - loss: 0.5114 - accuracy: 0.7616\n",
            "Epoch 49/100\n",
            "822/822 [==============================] - 0s 31us/step - loss: 0.5045 - accuracy: 0.7822\n",
            "Epoch 50/100\n",
            "822/822 [==============================] - 0s 34us/step - loss: 0.5052 - accuracy: 0.7804\n",
            "Epoch 51/100\n",
            "822/822 [==============================] - 0s 25us/step - loss: 0.5151 - accuracy: 0.7695\n",
            "Epoch 52/100\n",
            "822/822 [==============================] - 0s 24us/step - loss: 0.5236 - accuracy: 0.7646\n",
            "Epoch 53/100\n",
            "822/822 [==============================] - 0s 26us/step - loss: 0.5027 - accuracy: 0.7749\n",
            "Epoch 54/100\n",
            "822/822 [==============================] - 0s 33us/step - loss: 0.5082 - accuracy: 0.7701\n",
            "Epoch 55/100\n",
            "822/822 [==============================] - 0s 25us/step - loss: 0.5072 - accuracy: 0.7664\n",
            "Epoch 56/100\n",
            "822/822 [==============================] - 0s 24us/step - loss: 0.5218 - accuracy: 0.7743\n",
            "Epoch 57/100\n",
            "822/822 [==============================] - 0s 29us/step - loss: 0.5196 - accuracy: 0.7725\n",
            "Epoch 58/100\n",
            "822/822 [==============================] - 0s 28us/step - loss: 0.5010 - accuracy: 0.7731\n",
            "Epoch 59/100\n",
            "822/822 [==============================] - 0s 25us/step - loss: 0.5197 - accuracy: 0.7585\n",
            "Epoch 60/100\n",
            "822/822 [==============================] - 0s 25us/step - loss: 0.5170 - accuracy: 0.7774\n",
            "Epoch 61/100\n",
            "822/822 [==============================] - 0s 26us/step - loss: 0.5014 - accuracy: 0.7664\n",
            "Epoch 62/100\n",
            "822/822 [==============================] - 0s 23us/step - loss: 0.5117 - accuracy: 0.7865\n",
            "Epoch 63/100\n",
            "822/822 [==============================] - 0s 20us/step - loss: 0.5079 - accuracy: 0.7737\n",
            "Epoch 64/100\n",
            "822/822 [==============================] - 0s 19us/step - loss: 0.5030 - accuracy: 0.7828\n",
            "Epoch 65/100\n",
            "822/822 [==============================] - 0s 25us/step - loss: 0.5149 - accuracy: 0.7707\n",
            "Epoch 66/100\n",
            "822/822 [==============================] - 0s 24us/step - loss: 0.5081 - accuracy: 0.7737\n",
            "Epoch 67/100\n",
            "822/822 [==============================] - 0s 23us/step - loss: 0.5185 - accuracy: 0.7646\n",
            "Epoch 68/100\n",
            "822/822 [==============================] - 0s 24us/step - loss: 0.5112 - accuracy: 0.7768\n",
            "Epoch 69/100\n",
            "822/822 [==============================] - 0s 37us/step - loss: 0.5003 - accuracy: 0.7701\n",
            "Epoch 70/100\n",
            "822/822 [==============================] - 0s 28us/step - loss: 0.4948 - accuracy: 0.7792\n",
            "Epoch 71/100\n",
            "822/822 [==============================] - 0s 27us/step - loss: 0.4961 - accuracy: 0.7689\n",
            "Epoch 72/100\n",
            "822/822 [==============================] - 0s 25us/step - loss: 0.5136 - accuracy: 0.7816\n",
            "Epoch 73/100\n",
            "822/822 [==============================] - 0s 27us/step - loss: 0.5152 - accuracy: 0.7597\n",
            "Epoch 74/100\n",
            "822/822 [==============================] - 0s 28us/step - loss: 0.5084 - accuracy: 0.7664\n",
            "Epoch 75/100\n",
            "822/822 [==============================] - 0s 33us/step - loss: 0.5225 - accuracy: 0.7774\n",
            "Epoch 76/100\n",
            "822/822 [==============================] - 0s 31us/step - loss: 0.5135 - accuracy: 0.7762\n",
            "Epoch 77/100\n",
            "822/822 [==============================] - 0s 33us/step - loss: 0.5204 - accuracy: 0.7658\n",
            "Epoch 78/100\n",
            "822/822 [==============================] - 0s 30us/step - loss: 0.5289 - accuracy: 0.7567\n",
            "Epoch 79/100\n",
            "822/822 [==============================] - 0s 25us/step - loss: 0.5125 - accuracy: 0.7646\n",
            "Epoch 80/100\n",
            "822/822 [==============================] - 0s 27us/step - loss: 0.4989 - accuracy: 0.7749\n",
            "Epoch 81/100\n",
            "822/822 [==============================] - 0s 21us/step - loss: 0.5078 - accuracy: 0.7731\n",
            "Epoch 82/100\n",
            "822/822 [==============================] - 0s 26us/step - loss: 0.5191 - accuracy: 0.7780\n",
            "Epoch 83/100\n",
            "822/822 [==============================] - 0s 29us/step - loss: 0.5145 - accuracy: 0.7786\n",
            "Epoch 84/100\n",
            "822/822 [==============================] - 0s 24us/step - loss: 0.5039 - accuracy: 0.7755\n",
            "Epoch 85/100\n",
            "822/822 [==============================] - 0s 37us/step - loss: 0.5189 - accuracy: 0.7828\n",
            "Epoch 86/100\n",
            "822/822 [==============================] - 0s 20us/step - loss: 0.5128 - accuracy: 0.7682\n",
            "Epoch 87/100\n",
            "822/822 [==============================] - 0s 25us/step - loss: 0.5089 - accuracy: 0.7701\n",
            "Epoch 88/100\n",
            "822/822 [==============================] - 0s 22us/step - loss: 0.5217 - accuracy: 0.7743\n",
            "Epoch 89/100\n",
            "822/822 [==============================] - 0s 24us/step - loss: 0.5150 - accuracy: 0.7628\n",
            "Epoch 90/100\n",
            "822/822 [==============================] - 0s 24us/step - loss: 0.5183 - accuracy: 0.7798\n",
            "Epoch 91/100\n",
            "822/822 [==============================] - 0s 24us/step - loss: 0.5285 - accuracy: 0.7658\n",
            "Epoch 92/100\n",
            "822/822 [==============================] - 0s 23us/step - loss: 0.5123 - accuracy: 0.7920\n",
            "Epoch 93/100\n",
            "822/822 [==============================] - 0s 28us/step - loss: 0.4988 - accuracy: 0.7786\n",
            "Epoch 94/100\n",
            "822/822 [==============================] - 0s 24us/step - loss: 0.5060 - accuracy: 0.7719\n",
            "Epoch 95/100\n",
            "822/822 [==============================] - 0s 24us/step - loss: 0.5148 - accuracy: 0.7658\n",
            "Epoch 96/100\n",
            "822/822 [==============================] - 0s 27us/step - loss: 0.5097 - accuracy: 0.7749\n",
            "Epoch 97/100\n",
            "822/822 [==============================] - 0s 32us/step - loss: 0.5205 - accuracy: 0.7585\n",
            "Epoch 98/100\n",
            "822/822 [==============================] - 0s 27us/step - loss: 0.5047 - accuracy: 0.7719\n",
            "Epoch 99/100\n",
            "822/822 [==============================] - 0s 27us/step - loss: 0.5074 - accuracy: 0.7792\n",
            "Epoch 100/100\n",
            "822/822 [==============================] - 0s 29us/step - loss: 0.5129 - accuracy: 0.7658\n"
          ],
          "name": "stdout"
        }
      ]
    },
    {
      "cell_type": "code",
      "metadata": {
        "id": "iPfjBoB1_uGO",
        "colab_type": "code",
        "colab": {
          "base_uri": "https://localhost:8080/",
          "height": 298
        },
        "outputId": "3f8eaae2-402a-4a8e-b7c5-83417d81112b"
      },
      "source": [
        "plt.plot(history.epoch, history.history[\"accuracy\"], label=\"accuracy\")\n",
        "plt.plot(history.epoch, history.history[\"loss\"], label=\"loss\")\n",
        "plt.xlabel(\"epoch\")\n",
        "plt.legend()"
      ],
      "execution_count": null,
      "outputs": [
        {
          "output_type": "execute_result",
          "data": {
            "text/plain": [
              "<matplotlib.legend.Legend at 0x7f2b6a99a780>"
            ]
          },
          "metadata": {
            "tags": []
          },
          "execution_count": 53
        },
        {
          "output_type": "display_data",
          "data": {
            "image/png": "[encoded data removed]",
            "text/plain": [
              "<Figure size 432x288 with 1 Axes>"
            ]
          },
          "metadata": {
            "tags": [],
            "needs_background": "light"
          }
        }
      ]
    },
    {
      "cell_type": "code",
      "metadata": {
        "id": "dzV_bU117Spk",
        "colab_type": "code",
        "colab": {}
      },
      "source": [
        "pred = model.predict(test_features_std)\n",
        "\n",
        "predd = np.argmax(pred, axis=1)\n",
        "\n",
        "# PassengerIDを取得\n",
        "PassengerId = np.array(test[\"PassengerId\"]).astype(int)\n",
        "\n",
        "# my_predictionとPassengerIdをデータフレームへ落とし込む\n",
        "my_solution = pd.DataFrame(predd,PassengerId,columns = [\"Survived\"])\n",
        "\n",
        "# my_tree_one.csvとして出力\n",
        "my_solution.to_csv(\"/content/my_dl_one.csv\",index_label = [\"PassengerId\"])"
      ],
      "execution_count": null,
      "outputs": []
    },
    {
      "cell_type": "code",
      "metadata": {
        "id": "ZLqTVtsH7Ym2",
        "colab_type": "code",
        "colab": {}
      },
      "source": [
        ""
      ],
      "execution_count": null,
      "outputs": []
    }
  ]
}