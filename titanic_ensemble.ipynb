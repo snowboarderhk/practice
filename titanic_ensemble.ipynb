{
  "nbformat": 4,
  "nbformat_minor": 0,
  "metadata": {
    "colab": {
      "name": "Untitled24.ipynb",
      "provenance": [],
      "authorship_tag": "ABX9TyM/NlJIPj3WTJpZ7BhNZLBx",
      "include_colab_link": true
    },
    "kernelspec": {
      "name": "python3",
      "display_name": "Python 3"
    }
  },
  "cells": [
    {
      "cell_type": "markdown",
      "metadata": {
        "id": "view-in-github",
        "colab_type": "text"
      },
      "source": [
        "<a href=\"https://colab.research.google.com/github/snowboarderhk/practice/blob/master/titanic_ensemble.ipynb\" target=\"_parent\"><img src=\"https://colab.research.google.com/assets/colab-badge.svg\" alt=\"Open In Colab\"/></a>"
      ]
    },
    {
      "cell_type": "code",
      "metadata": {
        "id": "tbWG7uRR6ML_",
        "colab_type": "code",
        "colab": {
          "base_uri": "https://localhost:8080/",
          "height": 697
        },
        "outputId": "1212b8b7-5ced-4e15-8f8d-ad4947122b12"
      },
      "source": [
        "#参考にしたサイト　https://www.codexa.net/kaggle-titanic-beginner/\n",
        "\n",
        "#===== SVM ======\n",
        "\n",
        "\n",
        "#ライブラリのインポート\n",
        "import pandas as pd\n",
        "import numpy as np\n",
        "\n",
        "#データセット読み込み\n",
        "train = pd.read_csv(\"/content/train.csv\")\n",
        "test = pd.read_csv(\"/content/test.csv\")\n",
        "\n",
        "#train.head()\n",
        "\n",
        "#データセットのサイズ確認\n",
        "test_shape = test.shape\n",
        "train_shape = train.shape\n",
        "#print(test_shape,train_shape)\n",
        "\n",
        "#統計量確認\n",
        "#train.describe() #test.describe()\n",
        "\n",
        "#----欠損データの確認----\n",
        "def kesson_table(df):\n",
        "    null_val = df.isnull().sum() #isnull()は欠損データか否かを返す\n",
        "    percent = 100* df.isnull().sum()/len(df)\n",
        "    kesson_table = pd.concat([null_val,percent],axis=1)#concat は連結、引数のaxisは連結方向\n",
        "    #print(kesson_table)\n",
        "    kesson_table_ren_columns = kesson_table.rename(\n",
        "    columns = {0:\"欠損数\",1:\"%\"})\n",
        "    return kesson_table_ren_columns\n",
        "\n",
        "#kesson_table(train)\n",
        "\n",
        "#trainの欠損データ前処理(AgeとEmbarked)※Cabinは欠損率が高いため予測モデルに使用しない\n",
        "\n",
        "#Age の欠損データは平均値を代理として使う\n",
        "train[\"Age\"]=train[\"Age\"].fillna(train[\"Age\"].mean()) #fillnaはすべてのnanを指定の値に置き換え\n",
        "\n",
        "#Embarkedの欠損データは最も多いSとする。\n",
        "train[\"Embarked\"] = train[\"Embarked\"].fillna(\"S\")\n",
        "\n",
        "#kesson_table(train)\n",
        "\n",
        "#カテゴリカルなデータを数字に置き換える\n",
        "train[\"Sex\"][train[\"Sex\"] == \"male\"] = 0\n",
        "train[\"Sex\"][train[\"Sex\"] == \"female\"] = 1\n",
        "train[\"Embarked\"][train[\"Embarked\"] == \"S\" ] = 0\n",
        "train[\"Embarked\"][train[\"Embarked\"] == \"C\" ] = 1\n",
        "train[\"Embarked\"][train[\"Embarked\"] == \"Q\"] = 2\n",
        "#train.head()\n",
        "\n",
        "test[\"Sex\"][test[\"Sex\"] == \"male\"] = 0\n",
        "test[\"Sex\"][test[\"Sex\"] == \"female\"] = 1\n",
        "test[\"Embarked\"][test[\"Embarked\"] == \"S\"] = 0\n",
        "test[\"Embarked\"][test[\"Embarked\"] == \"C\"] = 1\n",
        "test[\"Embarked\"][test[\"Embarked\"] == \"Q\"] = 2\n",
        "#test.head()\n",
        "\n",
        "#kesson_table(test)\n",
        "\n",
        "test[\"Age\"] = test[\"Age\"].fillna(test[\"Age\"].mean())\n",
        "test[\"Fare\"] = test[\"Fare\"].fillna(test[\"Fare\"].mean())\n",
        "#kesson_table(test)\n",
        "\n",
        "#trainデータセットを目的変数と説明変数に分ける\n",
        "target = train[\"Survived\"].values\n",
        "\n",
        "features_one = train[[\"Pclass\",\"Age\",\"Sex\",\"Fare\", \"SibSp\", \"Parch\", \"Embarked\"]].values\n",
        "#testデータセットから説明変数の値を取得\n",
        "test_features = test[[\"Pclass\",\"Age\",\"Sex\",\"Fare\", \"SibSp\", \"Parch\", \"Embarked\"]].values\n",
        "\n",
        "#正規化を試みる200518\n",
        "from sklearn import preprocessing\n",
        "ss = preprocessing.StandardScaler()\n",
        "\n",
        "features_one_std = ss.fit_transform(features_one)\n",
        "test_features_std = ss.fit_transform(test_features)"
      ],
      "execution_count": 2,
      "outputs": [
        {
          "output_type": "stream",
          "text": [
            "/usr/local/lib/python3.6/dist-packages/ipykernel_launcher.py:47: SettingWithCopyWarning: \n",
            "A value is trying to be set on a copy of a slice from a DataFrame\n",
            "\n",
            "See the caveats in the documentation: https://pandas.pydata.org/pandas-docs/stable/user_guide/indexing.html#returning-a-view-versus-a-copy\n",
            "/usr/local/lib/python3.6/dist-packages/ipykernel_launcher.py:48: SettingWithCopyWarning: \n",
            "A value is trying to be set on a copy of a slice from a DataFrame\n",
            "\n",
            "See the caveats in the documentation: https://pandas.pydata.org/pandas-docs/stable/user_guide/indexing.html#returning-a-view-versus-a-copy\n",
            "/usr/local/lib/python3.6/dist-packages/ipykernel_launcher.py:49: SettingWithCopyWarning: \n",
            "A value is trying to be set on a copy of a slice from a DataFrame\n",
            "\n",
            "See the caveats in the documentation: https://pandas.pydata.org/pandas-docs/stable/user_guide/indexing.html#returning-a-view-versus-a-copy\n",
            "/usr/local/lib/python3.6/dist-packages/ipykernel_launcher.py:50: SettingWithCopyWarning: \n",
            "A value is trying to be set on a copy of a slice from a DataFrame\n",
            "\n",
            "See the caveats in the documentation: https://pandas.pydata.org/pandas-docs/stable/user_guide/indexing.html#returning-a-view-versus-a-copy\n",
            "/usr/local/lib/python3.6/dist-packages/ipykernel_launcher.py:51: SettingWithCopyWarning: \n",
            "A value is trying to be set on a copy of a slice from a DataFrame\n",
            "\n",
            "See the caveats in the documentation: https://pandas.pydata.org/pandas-docs/stable/user_guide/indexing.html#returning-a-view-versus-a-copy\n",
            "/usr/local/lib/python3.6/dist-packages/ipykernel_launcher.py:54: SettingWithCopyWarning: \n",
            "A value is trying to be set on a copy of a slice from a DataFrame\n",
            "\n",
            "See the caveats in the documentation: https://pandas.pydata.org/pandas-docs/stable/user_guide/indexing.html#returning-a-view-versus-a-copy\n",
            "/usr/local/lib/python3.6/dist-packages/ipykernel_launcher.py:55: SettingWithCopyWarning: \n",
            "A value is trying to be set on a copy of a slice from a DataFrame\n",
            "\n",
            "See the caveats in the documentation: https://pandas.pydata.org/pandas-docs/stable/user_guide/indexing.html#returning-a-view-versus-a-copy\n",
            "/usr/local/lib/python3.6/dist-packages/ipykernel_launcher.py:56: SettingWithCopyWarning: \n",
            "A value is trying to be set on a copy of a slice from a DataFrame\n",
            "\n",
            "See the caveats in the documentation: https://pandas.pydata.org/pandas-docs/stable/user_guide/indexing.html#returning-a-view-versus-a-copy\n",
            "/usr/local/lib/python3.6/dist-packages/ipykernel_launcher.py:57: SettingWithCopyWarning: \n",
            "A value is trying to be set on a copy of a slice from a DataFrame\n",
            "\n",
            "See the caveats in the documentation: https://pandas.pydata.org/pandas-docs/stable/user_guide/indexing.html#returning-a-view-versus-a-copy\n",
            "/usr/local/lib/python3.6/dist-packages/ipykernel_launcher.py:58: SettingWithCopyWarning: \n",
            "A value is trying to be set on a copy of a slice from a DataFrame\n",
            "\n",
            "See the caveats in the documentation: https://pandas.pydata.org/pandas-docs/stable/user_guide/indexing.html#returning-a-view-versus-a-copy\n"
          ],
          "name": "stderr"
        }
      ]
    },
    {
      "cell_type": "code",
      "metadata": {
        "id": "5EP2qPdY6wQn",
        "colab_type": "code",
        "colab": {
          "base_uri": "https://localhost:8080/",
          "height": 34
        },
        "outputId": "33faa9ae-cb0f-4ed4-a7fe-283235008938"
      },
      "source": [
        "import numpy as np\n",
        "import matplotlib.pyplot as plt\n",
        "from keras.models import Sequential\n",
        "from keras.layers import Dense, Activation, BatchNormalization\n",
        "from sklearn.model_selection import train_test_split\n",
        "from keras.utils import np_utils\n",
        "from keras.layers import Dropout"
      ],
      "execution_count": 3,
      "outputs": [
        {
          "output_type": "stream",
          "text": [
            "Using TensorFlow backend.\n"
          ],
          "name": "stderr"
        }
      ]
    },
    {
      "cell_type": "code",
      "metadata": {
        "id": "qA3Jf9IC61aX",
        "colab_type": "code",
        "colab": {}
      },
      "source": [
        "#one hot encoding\n",
        "target_one_hot = np_utils.to_categorical(target)\n"
      ],
      "execution_count": 4,
      "outputs": []
    },
    {
      "cell_type": "code",
      "metadata": {
        "id": "OVTcFI8d9LDk",
        "colab_type": "code",
        "colab": {}
      },
      "source": [
        "# モデルの作成\n",
        "model = Sequential()\n",
        "model.add(Dense(14, input_dim=7)) \n",
        "model.add(Activation(\"relu\"))\n",
        "model.add(BatchNormalization())\n",
        "model.add(Dropout(0.1))\n",
        "model.add(Dense(14, input_dim=14)) \n",
        "model.add(Activation(\"relu\"))\n",
        "model.add(BatchNormalization())\n",
        "model.add(Dropout(0.2))\n",
        "model.add(Dense(14, input_dim=14)) \n",
        "model.add(Activation(\"relu\"))\n",
        "model.add(BatchNormalization())\n",
        "model.add(Dropout(0.1))\n",
        "model.add(Dense(7, input_dim=14))\n",
        "model.add(BatchNormalization())\n",
        "model.add(Dropout(0.2))\n",
        "model.add(Dense(5, input_dim=7))\n",
        "model.add(BatchNormalization())\n",
        "#model.add(Dropout(0.1))\n",
        "model.add(Dense(3, input_dim=5))\n",
        "model.add(BatchNormalization())\n",
        "model.add(Dropout(0.1))\n",
        "model.add(Dense(2)) # 出力層2ノード,全結合\n",
        "model.add(Activation(\"sigmoid\"))"
      ],
      "execution_count": 5,
      "outputs": []
    },
    {
      "cell_type": "code",
      "metadata": {
        "id": "pKF0cWfC9q2b",
        "colab_type": "code",
        "colab": {}
      },
      "source": [
        "model.compile(loss=\"binary_crossentropy\",   # 誤差関数\n",
        "              optimizer=\"adam\",     # 最適化手法\n",
        "              metrics=['accuracy'])"
      ],
      "execution_count": 6,
      "outputs": []
    },
    {
      "cell_type": "code",
      "metadata": {
        "id": "qNl0nAiQ9s_o",
        "colab_type": "code",
        "colab": {
          "base_uri": "https://localhost:8080/",
          "height": 1000
        },
        "outputId": "8ffddb20-ab1a-420b-9199-a00114952b90"
      },
      "source": [
        "# 訓練\n",
        "history = model.fit(features_one_std, target_one_hot, nb_epoch=40, batch_size=32) # 学習"
      ],
      "execution_count": 7,
      "outputs": [
        {
          "output_type": "stream",
          "text": [
            "/usr/local/lib/python3.6/dist-packages/ipykernel_launcher.py:2: UserWarning: The `nb_epoch` argument in `fit` has been renamed `epochs`.\n",
            "  \n"
          ],
          "name": "stderr"
        },
        {
          "output_type": "stream",
          "text": [
            "Epoch 1/40\n",
            "891/891 [==============================] - 1s 1ms/step - loss: 0.7536 - accuracy: 0.5398\n",
            "Epoch 2/40\n",
            "891/891 [==============================] - 0s 95us/step - loss: 0.6788 - accuracy: 0.6111\n",
            "Epoch 3/40\n",
            "891/891 [==============================] - 0s 121us/step - loss: 0.6146 - accuracy: 0.6964\n",
            "Epoch 4/40\n",
            "891/891 [==============================] - 0s 108us/step - loss: 0.5913 - accuracy: 0.6964\n",
            "Epoch 5/40\n",
            "891/891 [==============================] - 0s 101us/step - loss: 0.5518 - accuracy: 0.7306\n",
            "Epoch 6/40\n",
            "891/891 [==============================] - 0s 89us/step - loss: 0.5064 - accuracy: 0.7660\n",
            "Epoch 7/40\n",
            "891/891 [==============================] - 0s 89us/step - loss: 0.5236 - accuracy: 0.7694\n",
            "Epoch 8/40\n",
            "891/891 [==============================] - 0s 89us/step - loss: 0.5095 - accuracy: 0.7716\n",
            "Epoch 9/40\n",
            "891/891 [==============================] - 0s 88us/step - loss: 0.5115 - accuracy: 0.7767\n",
            "Epoch 10/40\n",
            "891/891 [==============================] - 0s 89us/step - loss: 0.4920 - accuracy: 0.7823\n",
            "Epoch 11/40\n",
            "891/891 [==============================] - 0s 89us/step - loss: 0.4977 - accuracy: 0.7699\n",
            "Epoch 12/40\n",
            "891/891 [==============================] - 0s 88us/step - loss: 0.5066 - accuracy: 0.7716\n",
            "Epoch 13/40\n",
            "891/891 [==============================] - 0s 99us/step - loss: 0.4775 - accuracy: 0.7974\n",
            "Epoch 14/40\n",
            "891/891 [==============================] - 0s 99us/step - loss: 0.4751 - accuracy: 0.7924\n",
            "Epoch 15/40\n",
            "891/891 [==============================] - 0s 99us/step - loss: 0.4748 - accuracy: 0.7912\n",
            "Epoch 16/40\n",
            "891/891 [==============================] - 0s 113us/step - loss: 0.4961 - accuracy: 0.7806\n",
            "Epoch 17/40\n",
            "891/891 [==============================] - 0s 104us/step - loss: 0.4891 - accuracy: 0.7834\n",
            "Epoch 18/40\n",
            "891/891 [==============================] - 0s 86us/step - loss: 0.4667 - accuracy: 0.7901\n",
            "Epoch 19/40\n",
            "891/891 [==============================] - 0s 110us/step - loss: 0.4878 - accuracy: 0.7952\n",
            "Epoch 20/40\n",
            "891/891 [==============================] - 0s 88us/step - loss: 0.4799 - accuracy: 0.7924\n",
            "Epoch 21/40\n",
            "891/891 [==============================] - 0s 91us/step - loss: 0.4683 - accuracy: 0.8193\n",
            "Epoch 22/40\n",
            "891/891 [==============================] - 0s 92us/step - loss: 0.4604 - accuracy: 0.8008\n",
            "Epoch 23/40\n",
            "891/891 [==============================] - 0s 92us/step - loss: 0.4466 - accuracy: 0.8053\n",
            "Epoch 24/40\n",
            "891/891 [==============================] - 0s 95us/step - loss: 0.4489 - accuracy: 0.7997\n",
            "Epoch 25/40\n",
            "891/891 [==============================] - 0s 101us/step - loss: 0.4537 - accuracy: 0.7974\n",
            "Epoch 26/40\n",
            "891/891 [==============================] - 0s 92us/step - loss: 0.4622 - accuracy: 0.8047\n",
            "Epoch 27/40\n",
            "891/891 [==============================] - 0s 89us/step - loss: 0.4743 - accuracy: 0.7952\n",
            "Epoch 28/40\n",
            "891/891 [==============================] - 0s 112us/step - loss: 0.4726 - accuracy: 0.8070\n",
            "Epoch 29/40\n",
            "891/891 [==============================] - 0s 89us/step - loss: 0.4461 - accuracy: 0.8204\n",
            "Epoch 30/40\n",
            "891/891 [==============================] - 0s 96us/step - loss: 0.4502 - accuracy: 0.8126\n",
            "Epoch 31/40\n",
            "891/891 [==============================] - 0s 101us/step - loss: 0.4608 - accuracy: 0.8064\n",
            "Epoch 32/40\n",
            "891/891 [==============================] - 0s 94us/step - loss: 0.4611 - accuracy: 0.7912\n",
            "Epoch 33/40\n",
            "891/891 [==============================] - 0s 102us/step - loss: 0.4587 - accuracy: 0.8081\n",
            "Epoch 34/40\n",
            "891/891 [==============================] - 0s 103us/step - loss: 0.4540 - accuracy: 0.8098\n",
            "Epoch 35/40\n",
            "891/891 [==============================] - 0s 98us/step - loss: 0.4652 - accuracy: 0.7991\n",
            "Epoch 36/40\n",
            "891/891 [==============================] - 0s 96us/step - loss: 0.4435 - accuracy: 0.8131\n",
            "Epoch 37/40\n",
            "891/891 [==============================] - 0s 92us/step - loss: 0.4449 - accuracy: 0.7991\n",
            "Epoch 38/40\n",
            "891/891 [==============================] - 0s 92us/step - loss: 0.4684 - accuracy: 0.8070\n",
            "Epoch 39/40\n",
            "891/891 [==============================] - 0s 100us/step - loss: 0.4388 - accuracy: 0.8193\n",
            "Epoch 40/40\n",
            "891/891 [==============================] - 0s 88us/step - loss: 0.4514 - accuracy: 0.8143\n"
          ],
          "name": "stdout"
        }
      ]
    },
    {
      "cell_type": "code",
      "metadata": {
        "id": "iPfjBoB1_uGO",
        "colab_type": "code",
        "colab": {
          "base_uri": "https://localhost:8080/",
          "height": 296
        },
        "outputId": "afed4e6a-d38d-4d2f-a3b5-0570764f16da"
      },
      "source": [
        "plt.plot(history.epoch, history.history[\"accuracy\"], label=\"accuracy\")\n",
        "plt.plot(history.epoch, history.history[\"loss\"], label=\"loss\")\n",
        "plt.xlabel(\"epoch\")\n",
        "plt.legend()"
      ],
      "execution_count": 8,
      "outputs": [
        {
          "output_type": "execute_result",
          "data": {
            "text/plain": [
              "<matplotlib.legend.Legend at 0x7fc7758f0a58>"
            ]
          },
          "metadata": {
            "tags": []
          },
          "execution_count": 8
        },
        {
          "output_type": "display_data",
          "data": {
            "image/png": "[encoded data removed]",
            "text/plain": [
              "<Figure size 432x288 with 1 Axes>"
            ]
          },
          "metadata": {
            "tags": [],
            "needs_background": "light"
          }
        }
      ]
    },
    {
      "cell_type": "code",
      "metadata": {
        "id": "dzV_bU117Spk",
        "colab_type": "code",
        "colab": {}
      },
      "source": [
        "pred = model.predict(test_features_std)\n",
        "\n",
        "predd = np.argmax(pred, axis=1)\n",
        "\n",
        "# PassengerIDを取得\n",
        "PassengerId = np.array(test[\"PassengerId\"]).astype(int)\n",
        "\n",
        "# my_predictionとPassengerIdをデータフレームへ落とし込む\n",
        "my_solution = pd.DataFrame(predd,PassengerId,columns = [\"Survived\"])\n",
        "\n",
        "# my_tree_one.csvとして出力\n",
        "my_solution.to_csv(\"/content/my_dl_one.csv\",index_label = [\"PassengerId\"])"
      ],
      "execution_count": 9,
      "outputs": []
    },
    {
      "cell_type": "code",
      "metadata": {
        "id": "ZLqTVtsH7Ym2",
        "colab_type": "code",
        "colab": {
          "base_uri": "https://localhost:8080/",
          "height": 68
        },
        "outputId": "9af7ef19-d856-401f-fd2e-6e2e48e15d96"
      },
      "source": [
        "#公差検証\n",
        "from sklearn.model_selection import cross_val_score\n",
        "#SVMによる予測\n",
        "from sklearn.svm import SVC\n",
        "\n",
        "Ctune = np.arange(0.9,1.1,0.05)\n",
        "gammatune = np.arange(0.1,0.3,0.02)\n",
        "maxc = 0.0\n",
        "maxg = 0.0\n",
        "maxscore = 0.0\n",
        "\n",
        "\n",
        "#パラメータの意味参考https://qiita.com/sz_dr/items/f3d6630137b184156a67\n",
        "for i in Ctune:\n",
        "    for j in gammatune:\n",
        "        clf = SVC(kernel=\"rbf\",C=i,gamma=j,random_state=1) #score ???? データセットを拡張して試す\n",
        "        # 交差検証\n",
        "        scores = cross_val_score(clf, features_one_std,target)\n",
        "        # スコアの平均値\n",
        "        if maxscore <= np.mean(scores):\n",
        "            maxc = i\n",
        "            maxg = j\n",
        "            maxscore = np.mean(scores)\n",
        "print(maxscore)\n",
        "print(maxc)\n",
        "print(maxg)"
      ],
      "execution_count": 10,
      "outputs": [
        {
          "output_type": "stream",
          "text": [
            "0.831648986253217\n",
            "1.1\n",
            "0.14\n"
          ],
          "name": "stdout"
        }
      ]
    },
    {
      "cell_type": "code",
      "metadata": {
        "id": "xgGghHaiWRk4",
        "colab_type": "code",
        "colab": {
          "base_uri": "https://localhost:8080/",
          "height": 51
        },
        "outputId": "939c60b3-d892-4403-d236-95d15cb614f2"
      },
      "source": [
        "clf = SVC(kernel=\"rbf\",C=maxc,gamma=maxg,random_state=1)\n",
        "clf.fit(features_one_std,target)\n",
        "print(clf.score(features_one_std,target))\n",
        "\n",
        "scores = cross_val_score(clf,features_one_std,target)\n",
        "print(np.mean(scores))"
      ],
      "execution_count": 11,
      "outputs": [
        {
          "output_type": "stream",
          "text": [
            "0.8451178451178452\n",
            "0.831648986253217\n"
          ],
          "name": "stdout"
        }
      ]
    },
    {
      "cell_type": "code",
      "metadata": {
        "id": "zlfhyiTYWWO4",
        "colab_type": "code",
        "colab": {}
      },
      "source": [
        "pred = clf.predict(test_features_std)\n",
        "\n",
        "# PassengerIDを取得\n",
        "PassengerId = np.array(test[\"PassengerId\"]).astype(int)\n",
        "\n",
        "# my_predictionとPassengerIdをデータフレームへ落とし込む\n",
        "my_solution = pd.DataFrame(pred,PassengerId,columns = [\"Survived\"])\n",
        "\n",
        "# my_tree_one.csvとして出力\n",
        "my_solution.to_csv(\"/content/my_svm_one.csv\",index_label = [\"PassengerId\"])"
      ],
      "execution_count": 12,
      "outputs": []
    },
    {
      "cell_type": "code",
      "metadata": {
        "id": "XWY1B5dPWYw9",
        "colab_type": "code",
        "colab": {
          "base_uri": "https://localhost:8080/",
          "height": 282
        },
        "outputId": "19e132a5-6b9a-4f79-e4de-041664cad78a"
      },
      "source": [
        "#k近傍法\n",
        "from sklearn.neighbors import KNeighborsClassifier\n",
        "import matplotlib.pyplot as plt\n",
        "\n",
        "KScore = []\n",
        "#訓練データによる学習\n",
        "for k in range (1,10):\n",
        "    clf=KNeighborsClassifier(n_neighbors=k) # \n",
        "    clf.fit(features_one_std,target)#score 0.75598\n",
        "    #学習データのスコア\n",
        "    KScore.append(clf.score(features_one_std,target))\n",
        "\n",
        "plt.plot(KScore)"
      ],
      "execution_count": 13,
      "outputs": [
        {
          "output_type": "execute_result",
          "data": {
            "text/plain": [
              "[<matplotlib.lines.Line2D at 0x7fc771f7bcc0>]"
            ]
          },
          "metadata": {
            "tags": []
          },
          "execution_count": 13
        },
        {
          "output_type": "display_data",
          "data": {
            "image/png": "[encoded data removed]",
            "text/plain": [
              "<Figure size 432x288 with 1 Axes>"
            ]
          },
          "metadata": {
            "tags": [],
            "needs_background": "light"
          }
        }
      ]
    },
    {
      "cell_type": "code",
      "metadata": {
        "id": "0uS7eAyRXSsx",
        "colab_type": "code",
        "colab": {
          "base_uri": "https://localhost:8080/",
          "height": 34
        },
        "outputId": "53751bab-e30b-4836-c635-e86b1846a121"
      },
      "source": [
        "clf = KNeighborsClassifier(n_neighbors=4)\n",
        "clf.fit(features_one_std,target)\n",
        "print(clf.score(features_one_std,target))"
      ],
      "execution_count": 14,
      "outputs": [
        {
          "output_type": "stream",
          "text": [
            "0.8608305274971941\n"
          ],
          "name": "stdout"
        }
      ]
    },
    {
      "cell_type": "code",
      "metadata": {
        "id": "0rqVqcs2XUJX",
        "colab_type": "code",
        "colab": {}
      },
      "source": [
        "pred = clf.predict(test_features_std)\n",
        "\n",
        "# PassengerIDを取得\n",
        "PassengerId = np.array(test[\"PassengerId\"]).astype(int)\n",
        "\n",
        "# my_predictionとPassengerIdをデータフレームへ落とし込む\n",
        "my_solution = pd.DataFrame(pred,PassengerId,columns = [\"Survived\"])\n",
        "\n",
        "# my_tree_one.csvとして出力\n",
        "my_solution.to_csv(\"/content/my_kneighbors_one.csv\",index_label = [\"PassengerId\"])"
      ],
      "execution_count": 16,
      "outputs": []
    },
    {
      "cell_type": "code",
      "metadata": {
        "id": "nUm5KgSLXWic",
        "colab_type": "code",
        "colab": {}
      },
      "source": [
        "#ロジスティック回帰\n",
        "from sklearn.linear_model import LogisticRegression"
      ],
      "execution_count": 17,
      "outputs": []
    },
    {
      "cell_type": "code",
      "metadata": {
        "id": "-9ly-7PSXlqH",
        "colab_type": "code",
        "colab": {
          "base_uri": "https://localhost:8080/",
          "height": 34
        },
        "outputId": "aca349ad-9974-4cbb-de36-e953b7c15727"
      },
      "source": [
        "clf = LogisticRegression(C=10)\n",
        "clf.fit(features_one_std,target)\n",
        "print(clf.score(features_one_std,target))"
      ],
      "execution_count": 18,
      "outputs": [
        {
          "output_type": "stream",
          "text": [
            "0.8024691358024691\n"
          ],
          "name": "stdout"
        }
      ]
    },
    {
      "cell_type": "code",
      "metadata": {
        "id": "SqAQcxSGXpBA",
        "colab_type": "code",
        "colab": {}
      },
      "source": [
        "pred = clf.predict(test_features_std)\n",
        "\n",
        "# PassengerIDを取得\n",
        "PassengerId = np.array(test[\"PassengerId\"]).astype(int)\n",
        "\n",
        "# my_predictionとPassengerIdをデータフレームへ落とし込む\n",
        "my_solution = pd.DataFrame(pred,PassengerId,columns = [\"Survived\"])\n",
        "\n",
        "# my_tree_one.csvとして出力\n",
        "my_solution.to_csv(\"/content/my_logistic_one.csv\",index_label = [\"PassengerId\"])"
      ],
      "execution_count": 19,
      "outputs": []
    },
    {
      "cell_type": "code",
      "metadata": {
        "id": "sTmiXVVJXtRG",
        "colab_type": "code",
        "colab": {
          "base_uri": "https://localhost:8080/",
          "height": 34
        },
        "outputId": "15584259-46b2-46e5-d304-54b4d274b02f"
      },
      "source": [
        "#ランダムフォレスト\n",
        "from sklearn.ensemble import RandomForestClassifier\n",
        "\n",
        "mdl = RandomForestClassifier(max_depth=5,n_estimators=100, random_state=0)\n",
        "mdl.fit(features_one_std,target)\n",
        "\n",
        "print(mdl.score(features_one_std,target))\n",
        "\n",
        "#モデルを使った予測\n",
        "pred = mdl.predict(test_features_std)"
      ],
      "execution_count": 20,
      "outputs": [
        {
          "output_type": "stream",
          "text": [
            "0.8484848484848485\n"
          ],
          "name": "stdout"
        }
      ]
    },
    {
      "cell_type": "code",
      "metadata": {
        "id": "jLS3G_eYX7A3",
        "colab_type": "code",
        "colab": {}
      },
      "source": [
        "# PassengerIDを取得\n",
        "PassengerId = np.array(test[\"PassengerId\"]).astype(int)\n",
        "\n",
        "# my_predictionとPassengerIdをデータフレームへ落とし込む\n",
        "my_solution = pd.DataFrame(pred,PassengerId,columns = [\"Survived\"])\n",
        "\n",
        "# my_tree_one.csvとして出力\n",
        "my_solution.to_csv(\"/content/my_randomforest_one.csv\",index_label = [\"PassengerId\"])"
      ],
      "execution_count": 21,
      "outputs": []
    },
    {
      "cell_type": "code",
      "metadata": {
        "id": "zNLZZ-MsX_ck",
        "colab_type": "code",
        "colab": {}
      },
      "source": [
        "#ベイジアン推定\n",
        "from sklearn.naive_bayes import BernoulliNB"
      ],
      "execution_count": 24,
      "outputs": []
    },
    {
      "cell_type": "code",
      "metadata": {
        "id": "oKfPeU_CYJF0",
        "colab_type": "code",
        "colab": {
          "base_uri": "https://localhost:8080/",
          "height": 34
        },
        "outputId": "bac3d7f3-22be-45f8-d8b9-3a14a9dc6296"
      },
      "source": [
        "clf = BernoulliNB()\n",
        "clf.fit(features_one_std,target)\n",
        "#学習データのスコア\n",
        "print(clf.score(features_one,target))"
      ],
      "execution_count": 25,
      "outputs": [
        {
          "output_type": "stream",
          "text": [
            "0.7800224466891134\n"
          ],
          "name": "stdout"
        }
      ]
    },
    {
      "cell_type": "code",
      "metadata": {
        "id": "RnOs-tZfYMSe",
        "colab_type": "code",
        "colab": {}
      },
      "source": [
        "pred = clf.predict(test_features_std)\n",
        "\n",
        "# PassengerIDを取得\n",
        "PassengerId = np.array(test[\"PassengerId\"]).astype(int)\n",
        "\n",
        "# my_predictionとPassengerIdをデータフレームへ落とし込む\n",
        "my_solution = pd.DataFrame(pred,PassengerId,columns = [\"Survived\"])\n",
        "\n",
        "# my_tree_one.csvとして出力\n",
        "my_solution.to_csv(\"/content/my_baysian_one.csv\",index_label = [\"PassengerId\"])"
      ],
      "execution_count": 26,
      "outputs": []
    },
    {
      "cell_type": "code",
      "metadata": {
        "id": "0L139N7uYyAt",
        "colab_type": "code",
        "colab": {}
      },
      "source": [
        "import pandas as pd\n",
        "\n",
        "sub_baysian = pd.read_csv('/content/my_baysian_one.csv')\n",
        "sub_dl = pd.read_csv('/content/my_dl_one.csv')\n",
        "sub_kneighbors = pd.read_csv('/content/my_kneighbors_one.csv')\n",
        "sub_logistic = pd.read_csv(\"/content/my_logistic_one.csv\")\n",
        "sub_randomforest = pd.read_csv(\"/content/my_randomforest_one.csv\")\n",
        "sub_svm = pd.read_csv(\"/content/my_svm_one.csv\")"
      ],
      "execution_count": 28,
      "outputs": []
    },
    {
      "cell_type": "code",
      "metadata": {
        "id": "pICnXv7fZkO2",
        "colab_type": "code",
        "colab": {}
      },
      "source": [
        "sub = pd.DataFrame(pd.read_csv('/content/test.csv')['PassengerId'])\n",
        "sub['Survived'] = sub_baysian['Survived'] + sub_dl['Survived'] + sub_kneighbors['Survived']+sub_logistic['Survived'] + sub_randomforest['Survived'] + sub_svm['Survived']\n",
        "sub['Survived'] = (sub['Survived'] >= 4).astype(int)\n",
        "sub.to_csv('/content/ensemble.csv', index=False)"
      ],
      "execution_count": 29,
      "outputs": []
    },
    {
      "cell_type": "code",
      "metadata": {
        "id": "rp5YidZkaQUd",
        "colab_type": "code",
        "colab": {}
      },
      "source": [
        ""
      ],
      "execution_count": null,
      "outputs": []
    }
  ]
}