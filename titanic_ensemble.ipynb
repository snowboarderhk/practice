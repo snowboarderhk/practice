{
  "nbformat": 4,
  "nbformat_minor": 0,
  "metadata": {
    "colab": {
      "name": "Untitled24.ipynb",
      "provenance": [],
      "authorship_tag": "ABX9TyPIye1c2SEbMeZ0aEPVdsz6",
      "include_colab_link": true
    },
    "kernelspec": {
      "name": "python3",
      "display_name": "Python 3"
    }
  },
  "cells": [
    {
      "cell_type": "markdown",
      "metadata": {
        "id": "view-in-github",
        "colab_type": "text"
      },
      "source": [
        "<a href=\"https://colab.research.google.com/github/snowboarderhk/practice/blob/master/titanic_ensemble.ipynb\" target=\"_parent\"><img src=\"https://colab.research.google.com/assets/colab-badge.svg\" alt=\"Open In Colab\"/></a>"
      ]
    },
    {
      "cell_type": "code",
      "metadata": {
        "id": "tbWG7uRR6ML_",
        "colab_type": "code",
        "colab": {
          "base_uri": "https://localhost:8080/",
          "height": 717
        },
        "outputId": "7c5e4d1e-f98d-4d10-9649-a778e2b617f1"
      },
      "source": [
        "#参考にしたサイト　https://www.codexa.net/kaggle-titanic-beginner/\n",
        "\n",
        "#===== SVM ======\n",
        "\n",
        "\n",
        "#ライブラリのインポート\n",
        "import pandas as pd\n",
        "import numpy as np\n",
        "\n",
        "#データセット読み込み\n",
        "train = pd.read_csv(\"/content/train_extend.csv\")\n",
        "test = pd.read_csv(\"/content/test.csv\")\n",
        "\n",
        "#train.head()\n",
        "\n",
        "#データセットのサイズ確認\n",
        "test_shape = test.shape\n",
        "train_shape = train.shape\n",
        "#print(test_shape,train_shape)\n",
        "\n",
        "#統計量確認\n",
        "#train.describe() #test.describe()\n",
        "\n",
        "#----欠損データの確認----\n",
        "def kesson_table(df):\n",
        "    null_val = df.isnull().sum() #isnull()は欠損データか否かを返す\n",
        "    percent = 100* df.isnull().sum()/len(df)\n",
        "    kesson_table = pd.concat([null_val,percent],axis=1)#concat は連結、引数のaxisは連結方向\n",
        "    #print(kesson_table)\n",
        "    kesson_table_ren_columns = kesson_table.rename(\n",
        "    columns = {0:\"欠損数\",1:\"%\"})\n",
        "    return kesson_table_ren_columns\n",
        "\n",
        "#kesson_table(train)\n",
        "\n",
        "#trainの欠損データ前処理(AgeとEmbarked)※Cabinは欠損率が高いため予測モデルに使用しない\n",
        "\n",
        "#Age の欠損データは平均値を代理として使う\n",
        "train[\"Age\"]=train[\"Age\"].fillna(train[\"Age\"].mean()) #fillnaはすべてのnanを指定の値に置き換え\n",
        "\n",
        "#Embarkedの欠損データは最も多いSとする。\n",
        "train[\"Embarked\"] = train[\"Embarked\"].fillna(\"S\")\n",
        "train[\"Fare\"] = train[\"Fare\"].fillna(test[\"Fare\"].mean())\n",
        "\n",
        "#kesson_table(train)\n",
        "\n",
        "#カテゴリカルなデータを数字に置き換える\n",
        "train[\"Sex\"][train[\"Sex\"] == \"male\"] = 0\n",
        "train[\"Sex\"][train[\"Sex\"] == \"female\"] = 1\n",
        "train[\"Embarked\"][train[\"Embarked\"] == \"S\" ] = 0\n",
        "train[\"Embarked\"][train[\"Embarked\"] == \"C\" ] = 1\n",
        "train[\"Embarked\"][train[\"Embarked\"] == \"Q\"] = 2\n",
        "#train.head()\n",
        "\n",
        "test[\"Sex\"][test[\"Sex\"] == \"male\"] = 0\n",
        "test[\"Sex\"][test[\"Sex\"] == \"female\"] = 1\n",
        "test[\"Embarked\"][test[\"Embarked\"] == \"S\"] = 0\n",
        "test[\"Embarked\"][test[\"Embarked\"] == \"C\"] = 1\n",
        "test[\"Embarked\"][test[\"Embarked\"] == \"Q\"] = 2\n",
        "#test.head()\n",
        "\n",
        "#kesson_table(test)\n",
        "\n",
        "test[\"Age\"] = test[\"Age\"].fillna(test[\"Age\"].mean())\n",
        "test[\"Fare\"] = test[\"Fare\"].fillna(test[\"Fare\"].mean())\n",
        "#kesson_table(test)\n",
        "\n",
        "#trainデータセットを目的変数と説明変数に分ける\n",
        "target = train[\"Survived\"].values\n",
        "\n",
        "features_one = train[[\"Pclass\",\"Age\",\"Sex\",\"Fare\", \"SibSp\", \"Parch\", \"Embarked\"]].values\n",
        "#testデータセットから説明変数の値を取得\n",
        "test_features = test[[\"Pclass\",\"Age\",\"Sex\",\"Fare\", \"SibSp\", \"Parch\", \"Embarked\"]].values\n",
        "\n",
        "#正規化を試みる200518\n",
        "from sklearn import preprocessing\n",
        "ss = preprocessing.StandardScaler()\n",
        "\n",
        "features_one_std = ss.fit_transform(features_one)\n",
        "test_features_std = ss.fit_transform(test_features)"
      ],
      "execution_count": 1,
      "outputs": [
        {
          "output_type": "stream",
          "text": [
            "/usr/local/lib/python3.6/dist-packages/ipykernel_launcher.py:48: SettingWithCopyWarning: \n",
            "A value is trying to be set on a copy of a slice from a DataFrame\n",
            "\n",
            "See the caveats in the documentation: https://pandas.pydata.org/pandas-docs/stable/user_guide/indexing.html#returning-a-view-versus-a-copy\n",
            "/usr/local/lib/python3.6/dist-packages/ipykernel_launcher.py:49: SettingWithCopyWarning: \n",
            "A value is trying to be set on a copy of a slice from a DataFrame\n",
            "\n",
            "See the caveats in the documentation: https://pandas.pydata.org/pandas-docs/stable/user_guide/indexing.html#returning-a-view-versus-a-copy\n",
            "/usr/local/lib/python3.6/dist-packages/ipykernel_launcher.py:50: SettingWithCopyWarning: \n",
            "A value is trying to be set on a copy of a slice from a DataFrame\n",
            "\n",
            "See the caveats in the documentation: https://pandas.pydata.org/pandas-docs/stable/user_guide/indexing.html#returning-a-view-versus-a-copy\n",
            "/usr/local/lib/python3.6/dist-packages/ipykernel_launcher.py:51: SettingWithCopyWarning: \n",
            "A value is trying to be set on a copy of a slice from a DataFrame\n",
            "\n",
            "See the caveats in the documentation: https://pandas.pydata.org/pandas-docs/stable/user_guide/indexing.html#returning-a-view-versus-a-copy\n",
            "/usr/local/lib/python3.6/dist-packages/ipykernel_launcher.py:52: SettingWithCopyWarning: \n",
            "A value is trying to be set on a copy of a slice from a DataFrame\n",
            "\n",
            "See the caveats in the documentation: https://pandas.pydata.org/pandas-docs/stable/user_guide/indexing.html#returning-a-view-versus-a-copy\n",
            "/usr/local/lib/python3.6/dist-packages/ipykernel_launcher.py:55: SettingWithCopyWarning: \n",
            "A value is trying to be set on a copy of a slice from a DataFrame\n",
            "\n",
            "See the caveats in the documentation: https://pandas.pydata.org/pandas-docs/stable/user_guide/indexing.html#returning-a-view-versus-a-copy\n",
            "/usr/local/lib/python3.6/dist-packages/ipykernel_launcher.py:56: SettingWithCopyWarning: \n",
            "A value is trying to be set on a copy of a slice from a DataFrame\n",
            "\n",
            "See the caveats in the documentation: https://pandas.pydata.org/pandas-docs/stable/user_guide/indexing.html#returning-a-view-versus-a-copy\n",
            "/usr/local/lib/python3.6/dist-packages/ipykernel_launcher.py:57: SettingWithCopyWarning: \n",
            "A value is trying to be set on a copy of a slice from a DataFrame\n",
            "\n",
            "See the caveats in the documentation: https://pandas.pydata.org/pandas-docs/stable/user_guide/indexing.html#returning-a-view-versus-a-copy\n",
            "/usr/local/lib/python3.6/dist-packages/ipykernel_launcher.py:58: SettingWithCopyWarning: \n",
            "A value is trying to be set on a copy of a slice from a DataFrame\n",
            "\n",
            "See the caveats in the documentation: https://pandas.pydata.org/pandas-docs/stable/user_guide/indexing.html#returning-a-view-versus-a-copy\n",
            "/usr/local/lib/python3.6/dist-packages/ipykernel_launcher.py:59: SettingWithCopyWarning: \n",
            "A value is trying to be set on a copy of a slice from a DataFrame\n",
            "\n",
            "See the caveats in the documentation: https://pandas.pydata.org/pandas-docs/stable/user_guide/indexing.html#returning-a-view-versus-a-copy\n"
          ],
          "name": "stderr"
        }
      ]
    },
    {
      "cell_type": "code",
      "metadata": {
        "id": "5EP2qPdY6wQn",
        "colab_type": "code",
        "colab": {}
      },
      "source": [
        "import numpy as np\n",
        "import matplotlib.pyplot as plt\n",
        "from keras.models import Sequential\n",
        "from keras.layers import Dense, Activation, BatchNormalization\n",
        "from sklearn.model_selection import train_test_split\n",
        "from keras.utils import np_utils\n",
        "from keras.layers import Dropout"
      ],
      "execution_count": 2,
      "outputs": []
    },
    {
      "cell_type": "code",
      "metadata": {
        "id": "qA3Jf9IC61aX",
        "colab_type": "code",
        "colab": {}
      },
      "source": [
        "#one hot encoding\n",
        "target_one_hot = np_utils.to_categorical(target)\n"
      ],
      "execution_count": 3,
      "outputs": []
    },
    {
      "cell_type": "code",
      "metadata": {
        "id": "OVTcFI8d9LDk",
        "colab_type": "code",
        "colab": {}
      },
      "source": [
        "# モデルの作成\n",
        "model = Sequential()\n",
        "model.add(Dense(7, input_dim=7)) \n",
        "model.add(Activation(\"relu\"))\n",
        "model.add(BatchNormalization())\n",
        "model.add(Dropout(0.05))\n",
        "model.add(Dense(7, input_dim=7)) \n",
        "model.add(Activation(\"relu\"))\n",
        "model.add(BatchNormalization())\n",
        "model.add(Dropout(0.05))\n",
        "model.add(Dense(7, input_dim=7)) \n",
        "model.add(Activation(\"relu\"))\n",
        "model.add(BatchNormalization())\n",
        "model.add(Dropout(0.05))\n",
        "model.add(Dense(2)) # 出力層2ノード,全結合\n",
        "model.add(Activation(\"sigmoid\"))"
      ],
      "execution_count": 57,
      "outputs": []
    },
    {
      "cell_type": "code",
      "metadata": {
        "id": "pKF0cWfC9q2b",
        "colab_type": "code",
        "colab": {}
      },
      "source": [
        "model.compile(loss=\"binary_crossentropy\",   # 誤差関数\n",
        "              optimizer=\"adam\",     # 最適化手法\n",
        "              metrics=['accuracy'])"
      ],
      "execution_count": 58,
      "outputs": []
    },
    {
      "cell_type": "code",
      "metadata": {
        "id": "qNl0nAiQ9s_o",
        "colab_type": "code",
        "colab": {
          "base_uri": "https://localhost:8080/",
          "height": 1000
        },
        "outputId": "69639e8c-ab09-423b-84a0-74be0e693127"
      },
      "source": [
        "# 訓練\n",
        "history = model.fit(features_one_std, target_one_hot, epochs=50, batch_size=32) # 学習"
      ],
      "execution_count": 59,
      "outputs": [
        {
          "output_type": "stream",
          "text": [
            "Epoch 1/50\n",
            "41/41 [==============================] - 0s 2ms/step - loss: 0.7176 - accuracy: 0.5928\n",
            "Epoch 2/50\n",
            "41/41 [==============================] - 0s 1ms/step - loss: 0.6645 - accuracy: 0.6448\n",
            "Epoch 3/50\n",
            "41/41 [==============================] - 0s 1ms/step - loss: 0.6066 - accuracy: 0.6952\n",
            "Epoch 4/50\n",
            "41/41 [==============================] - 0s 1ms/step - loss: 0.5899 - accuracy: 0.6967\n",
            "Epoch 5/50\n",
            "41/41 [==============================] - 0s 2ms/step - loss: 0.5591 - accuracy: 0.7273\n",
            "Epoch 6/50\n",
            "41/41 [==============================] - 0s 2ms/step - loss: 0.5325 - accuracy: 0.7418\n",
            "Epoch 7/50\n",
            "41/41 [==============================] - 0s 2ms/step - loss: 0.5204 - accuracy: 0.7548\n",
            "Epoch 8/50\n",
            "41/41 [==============================] - 0s 2ms/step - loss: 0.5047 - accuracy: 0.7647\n",
            "Epoch 9/50\n",
            "41/41 [==============================] - 0s 2ms/step - loss: 0.4951 - accuracy: 0.7815\n",
            "Epoch 10/50\n",
            "41/41 [==============================] - 0s 1ms/step - loss: 0.4793 - accuracy: 0.7991\n",
            "Epoch 11/50\n",
            "41/41 [==============================] - 0s 1ms/step - loss: 0.4759 - accuracy: 0.8052\n",
            "Epoch 12/50\n",
            "41/41 [==============================] - 0s 1ms/step - loss: 0.4639 - accuracy: 0.7991\n",
            "Epoch 13/50\n",
            "41/41 [==============================] - 0s 1ms/step - loss: 0.4578 - accuracy: 0.8006\n",
            "Epoch 14/50\n",
            "41/41 [==============================] - 0s 2ms/step - loss: 0.4390 - accuracy: 0.8212\n",
            "Epoch 15/50\n",
            "41/41 [==============================] - 0s 1ms/step - loss: 0.4296 - accuracy: 0.8197\n",
            "Epoch 16/50\n",
            "41/41 [==============================] - 0s 1ms/step - loss: 0.4105 - accuracy: 0.8426\n",
            "Epoch 17/50\n",
            "41/41 [==============================] - 0s 1ms/step - loss: 0.4055 - accuracy: 0.8449\n",
            "Epoch 18/50\n",
            "41/41 [==============================] - 0s 1ms/step - loss: 0.4160 - accuracy: 0.8419\n",
            "Epoch 19/50\n",
            "41/41 [==============================] - 0s 2ms/step - loss: 0.3965 - accuracy: 0.8434\n",
            "Epoch 20/50\n",
            "41/41 [==============================] - 0s 2ms/step - loss: 0.3815 - accuracy: 0.8510\n",
            "Epoch 21/50\n",
            "41/41 [==============================] - 0s 2ms/step - loss: 0.3845 - accuracy: 0.8594\n",
            "Epoch 22/50\n",
            "41/41 [==============================] - 0s 1ms/step - loss: 0.3866 - accuracy: 0.8495\n",
            "Epoch 23/50\n",
            "41/41 [==============================] - 0s 1ms/step - loss: 0.3941 - accuracy: 0.8350\n",
            "Epoch 24/50\n",
            "41/41 [==============================] - 0s 1ms/step - loss: 0.3757 - accuracy: 0.8518\n",
            "Epoch 25/50\n",
            "41/41 [==============================] - 0s 1ms/step - loss: 0.3929 - accuracy: 0.8526\n",
            "Epoch 26/50\n",
            "41/41 [==============================] - 0s 2ms/step - loss: 0.3791 - accuracy: 0.8571\n",
            "Epoch 27/50\n",
            "41/41 [==============================] - 0s 2ms/step - loss: 0.4015 - accuracy: 0.8541\n",
            "Epoch 28/50\n",
            "41/41 [==============================] - 0s 1ms/step - loss: 0.3762 - accuracy: 0.8587\n",
            "Epoch 29/50\n",
            "41/41 [==============================] - 0s 2ms/step - loss: 0.3789 - accuracy: 0.8617\n",
            "Epoch 30/50\n",
            "41/41 [==============================] - 0s 1ms/step - loss: 0.3787 - accuracy: 0.8594\n",
            "Epoch 31/50\n",
            "41/41 [==============================] - 0s 2ms/step - loss: 0.3941 - accuracy: 0.8487\n",
            "Epoch 32/50\n",
            "41/41 [==============================] - 0s 1ms/step - loss: 0.3823 - accuracy: 0.8549\n",
            "Epoch 33/50\n",
            "41/41 [==============================] - 0s 1ms/step - loss: 0.3904 - accuracy: 0.8526\n",
            "Epoch 34/50\n",
            "41/41 [==============================] - 0s 1ms/step - loss: 0.3929 - accuracy: 0.8533\n",
            "Epoch 35/50\n",
            "41/41 [==============================] - 0s 1ms/step - loss: 0.3895 - accuracy: 0.8495\n",
            "Epoch 36/50\n",
            "41/41 [==============================] - 0s 1ms/step - loss: 0.3774 - accuracy: 0.8571\n",
            "Epoch 37/50\n",
            "41/41 [==============================] - 0s 2ms/step - loss: 0.3752 - accuracy: 0.8579\n",
            "Epoch 38/50\n",
            "41/41 [==============================] - 0s 1ms/step - loss: 0.3917 - accuracy: 0.8564\n",
            "Epoch 39/50\n",
            "41/41 [==============================] - 0s 1ms/step - loss: 0.3658 - accuracy: 0.8594\n",
            "Epoch 40/50\n",
            "41/41 [==============================] - 0s 1ms/step - loss: 0.3659 - accuracy: 0.8709\n",
            "Epoch 41/50\n",
            "41/41 [==============================] - 0s 1ms/step - loss: 0.3676 - accuracy: 0.8610\n",
            "Epoch 42/50\n",
            "41/41 [==============================] - 0s 1ms/step - loss: 0.3720 - accuracy: 0.8541\n",
            "Epoch 43/50\n",
            "41/41 [==============================] - 0s 2ms/step - loss: 0.3616 - accuracy: 0.8671\n",
            "Epoch 44/50\n",
            "41/41 [==============================] - 0s 1ms/step - loss: 0.3671 - accuracy: 0.8602\n",
            "Epoch 45/50\n",
            "41/41 [==============================] - 0s 2ms/step - loss: 0.3645 - accuracy: 0.8655\n",
            "Epoch 46/50\n",
            "41/41 [==============================] - 0s 1ms/step - loss: 0.3668 - accuracy: 0.8594\n",
            "Epoch 47/50\n",
            "41/41 [==============================] - 0s 1ms/step - loss: 0.3641 - accuracy: 0.8663\n",
            "Epoch 48/50\n",
            "41/41 [==============================] - 0s 1ms/step - loss: 0.3656 - accuracy: 0.8671\n",
            "Epoch 49/50\n",
            "41/41 [==============================] - 0s 2ms/step - loss: 0.3677 - accuracy: 0.8640\n",
            "Epoch 50/50\n",
            "41/41 [==============================] - 0s 1ms/step - loss: 0.3659 - accuracy: 0.8610\n"
          ],
          "name": "stdout"
        }
      ]
    },
    {
      "cell_type": "code",
      "metadata": {
        "id": "iPfjBoB1_uGO",
        "colab_type": "code",
        "colab": {
          "base_uri": "https://localhost:8080/",
          "height": 296
        },
        "outputId": "a4bc3068-60fe-4ef8-9e9c-a5362b89d446"
      },
      "source": [
        "plt.plot(history.epoch, history.history[\"accuracy\"], label=\"accuracy\")\n",
        "plt.plot(history.epoch, history.history[\"loss\"], label=\"loss\")\n",
        "plt.xlabel(\"epoch\")\n",
        "plt.legend()"
      ],
      "execution_count": 60,
      "outputs": [
        {
          "output_type": "execute_result",
          "data": {
            "text/plain": [
              "<matplotlib.legend.Legend at 0x7f50dd24e748>"
            ]
          },
          "metadata": {
            "tags": []
          },
          "execution_count": 60
        },
        {
          "output_type": "display_data",
          "data": {
            "image/png": "[encoded data removed]",
            "text/plain": [
              "<Figure size 432x288 with 1 Axes>"
            ]
          },
          "metadata": {
            "tags": [],
            "needs_background": "light"
          }
        }
      ]
    },
    {
      "cell_type": "code",
      "metadata": {
        "id": "dzV_bU117Spk",
        "colab_type": "code",
        "colab": {}
      },
      "source": [
        "pred = model.predict(test_features_std)\n",
        "\n",
        "predd = np.argmax(pred, axis=1)\n",
        "\n",
        "# PassengerIDを取得\n",
        "PassengerId = np.array(test[\"PassengerId\"]).astype(int)\n",
        "\n",
        "# my_predictionとPassengerIdをデータフレームへ落とし込む\n",
        "my_solution = pd.DataFrame(predd,PassengerId,columns = [\"Survived\"])\n",
        "\n",
        "# my_tree_one.csvとして出力\n",
        "my_solution.to_csv(\"/content/my_dl_one.csv\",index_label = [\"PassengerId\"])"
      ],
      "execution_count": 61,
      "outputs": []
    },
    {
      "cell_type": "code",
      "metadata": {
        "id": "ZLqTVtsH7Ym2",
        "colab_type": "code",
        "colab": {
          "base_uri": "https://localhost:8080/",
          "height": 68
        },
        "outputId": "437c9656-4d56-4c2d-b93d-72723e072852"
      },
      "source": [
        "#公差検証\n",
        "from sklearn.model_selection import cross_val_score\n",
        "#SVMによる予測\n",
        "from sklearn.svm import SVC\n",
        "\n",
        "Ctune = np.arange(0.9,1.1,0.05)\n",
        "gammatune = np.arange(0.1,0.3,0.02)\n",
        "maxc = 0.0\n",
        "maxg = 0.0\n",
        "maxscore = 0.0\n",
        "\n",
        "\n",
        "#パラメータの意味参考https://qiita.com/sz_dr/items/f3d6630137b184156a67\n",
        "for i in Ctune:\n",
        "    for j in gammatune:\n",
        "        clf = SVC(kernel=\"rbf\",C=i,gamma=j,random_state=1) #score ???? データセットを拡張して試す\n",
        "        # 交差検証\n",
        "        scores = cross_val_score(clf, features_one_std,target)\n",
        "        # スコアの平均値\n",
        "        if maxscore <= np.mean(scores):\n",
        "            maxc = i\n",
        "            maxg = j\n",
        "            maxscore = np.mean(scores)\n",
        "print(maxscore)\n",
        "print(maxc)\n",
        "print(maxg)"
      ],
      "execution_count": null,
      "outputs": [
        {
          "output_type": "stream",
          "text": [
            "0.8793717644994297\n",
            "1.0500000000000003\n",
            "0.1\n"
          ],
          "name": "stdout"
        }
      ]
    },
    {
      "cell_type": "code",
      "metadata": {
        "id": "xgGghHaiWRk4",
        "colab_type": "code",
        "colab": {
          "base_uri": "https://localhost:8080/",
          "height": 51
        },
        "outputId": "a8d3a345-ae7b-4797-e3e1-9b068cfd663e"
      },
      "source": [
        "clf = SVC(kernel=\"rbf\",C=maxc,gamma=maxg,random_state=1)\n",
        "clf.fit(features_one_std,target)\n",
        "print(clf.score(features_one_std,target))\n",
        "\n",
        "scores = cross_val_score(clf,features_one_std,target)\n",
        "print(np.mean(scores))"
      ],
      "execution_count": null,
      "outputs": [
        {
          "output_type": "stream",
          "text": [
            "0.8846447669977082\n",
            "0.8793717644994297\n"
          ],
          "name": "stdout"
        }
      ]
    },
    {
      "cell_type": "code",
      "metadata": {
        "id": "zlfhyiTYWWO4",
        "colab_type": "code",
        "colab": {}
      },
      "source": [
        "pred = clf.predict(test_features_std)\n",
        "\n",
        "# PassengerIDを取得\n",
        "PassengerId = np.array(test[\"PassengerId\"]).astype(int)\n",
        "\n",
        "# my_predictionとPassengerIdをデータフレームへ落とし込む\n",
        "my_solution = pd.DataFrame(pred,PassengerId,columns = [\"Survived\"])\n",
        "\n",
        "# my_tree_one.csvとして出力\n",
        "my_solution.to_csv(\"/content/my_svm_one.csv\",index_label = [\"PassengerId\"])"
      ],
      "execution_count": null,
      "outputs": []
    },
    {
      "cell_type": "code",
      "metadata": {
        "id": "XWY1B5dPWYw9",
        "colab_type": "code",
        "colab": {
          "base_uri": "https://localhost:8080/",
          "height": 282
        },
        "outputId": "e918318e-9e58-4df1-8cb8-5f15ee1dc72c"
      },
      "source": [
        "#k近傍法\n",
        "from sklearn.neighbors import KNeighborsClassifier\n",
        "import matplotlib.pyplot as plt\n",
        "\n",
        "KScore = []\n",
        "#訓練データによる学習\n",
        "for k in range (1,10):\n",
        "    clf=KNeighborsClassifier(n_neighbors=k) # \n",
        "    clf.fit(features_one_std,target)#score 0.75598\n",
        "    #学習データのスコア\n",
        "    KScore.append(clf.score(features_one_std,target))\n",
        "\n",
        "plt.plot(KScore)"
      ],
      "execution_count": null,
      "outputs": [
        {
          "output_type": "execute_result",
          "data": {
            "text/plain": [
              "[<matplotlib.lines.Line2D at 0x7fc76c0da5f8>]"
            ]
          },
          "metadata": {
            "tags": []
          },
          "execution_count": 67
        },
        {
          "output_type": "display_data",
          "data": {
            "image/png": "[encoded data removed]",
            "text/plain": [
              "<Figure size 432x288 with 1 Axes>"
            ]
          },
          "metadata": {
            "tags": [],
            "needs_background": "light"
          }
        }
      ]
    },
    {
      "cell_type": "code",
      "metadata": {
        "id": "0uS7eAyRXSsx",
        "colab_type": "code",
        "colab": {
          "base_uri": "https://localhost:8080/",
          "height": 34
        },
        "outputId": "08a433b7-c945-4d8c-dc61-00634223b9dd"
      },
      "source": [
        "clf = KNeighborsClassifier(n_neighbors=5)\n",
        "clf.fit(features_one_std,target)\n",
        "print(clf.score(features_one_std,target))"
      ],
      "execution_count": null,
      "outputs": [
        {
          "output_type": "stream",
          "text": [
            "0.9014514896867838\n"
          ],
          "name": "stdout"
        }
      ]
    },
    {
      "cell_type": "code",
      "metadata": {
        "id": "0rqVqcs2XUJX",
        "colab_type": "code",
        "colab": {}
      },
      "source": [
        "pred = clf.predict(test_features_std)\n",
        "\n",
        "# PassengerIDを取得\n",
        "PassengerId = np.array(test[\"PassengerId\"]).astype(int)\n",
        "\n",
        "# my_predictionとPassengerIdをデータフレームへ落とし込む\n",
        "my_solution = pd.DataFrame(pred,PassengerId,columns = [\"Survived\"])\n",
        "\n",
        "# my_tree_one.csvとして出力\n",
        "my_solution.to_csv(\"/content/my_kneighbors_one.csv\",index_label = [\"PassengerId\"])"
      ],
      "execution_count": null,
      "outputs": []
    },
    {
      "cell_type": "code",
      "metadata": {
        "id": "nUm5KgSLXWic",
        "colab_type": "code",
        "colab": {}
      },
      "source": [
        "#ロジスティック回帰\n",
        "from sklearn.linear_model import LogisticRegression"
      ],
      "execution_count": null,
      "outputs": []
    },
    {
      "cell_type": "code",
      "metadata": {
        "id": "-9ly-7PSXlqH",
        "colab_type": "code",
        "colab": {
          "base_uri": "https://localhost:8080/",
          "height": 34
        },
        "outputId": "0cd32ff3-6dcd-456c-9ae7-be4a3e6a4583"
      },
      "source": [
        "clf = LogisticRegression(C=10)\n",
        "clf.fit(features_one_std,target)\n",
        "print(clf.score(features_one_std,target))"
      ],
      "execution_count": null,
      "outputs": [
        {
          "output_type": "stream",
          "text": [
            "0.8433919022154316\n"
          ],
          "name": "stdout"
        }
      ]
    },
    {
      "cell_type": "code",
      "metadata": {
        "id": "SqAQcxSGXpBA",
        "colab_type": "code",
        "colab": {}
      },
      "source": [
        "pred = clf.predict(test_features_std)\n",
        "\n",
        "# PassengerIDを取得\n",
        "PassengerId = np.array(test[\"PassengerId\"]).astype(int)\n",
        "\n",
        "# my_predictionとPassengerIdをデータフレームへ落とし込む\n",
        "my_solution = pd.DataFrame(pred,PassengerId,columns = [\"Survived\"])\n",
        "\n",
        "# my_tree_one.csvとして出力\n",
        "my_solution.to_csv(\"/content/my_logistic_one.csv\",index_label = [\"PassengerId\"])"
      ],
      "execution_count": null,
      "outputs": []
    },
    {
      "cell_type": "code",
      "metadata": {
        "id": "sTmiXVVJXtRG",
        "colab_type": "code",
        "colab": {
          "base_uri": "https://localhost:8080/",
          "height": 34
        },
        "outputId": "bf182c4f-7e62-492e-bd6d-90e0d28e3a89"
      },
      "source": [
        "#ランダムフォレスト\n",
        "from sklearn.ensemble import RandomForestClassifier\n",
        "\n",
        "mdl = RandomForestClassifier(max_depth=5,n_estimators=100, random_state=0)\n",
        "mdl.fit(features_one_std,target)\n",
        "\n",
        "print(mdl.score(features_one_std,target))\n",
        "\n",
        "#モデルを使った予測\n",
        "pred = mdl.predict(test_features_std)"
      ],
      "execution_count": null,
      "outputs": [
        {
          "output_type": "stream",
          "text": [
            "0.8884644766997708\n"
          ],
          "name": "stdout"
        }
      ]
    },
    {
      "cell_type": "code",
      "metadata": {
        "id": "jLS3G_eYX7A3",
        "colab_type": "code",
        "colab": {}
      },
      "source": [
        "# PassengerIDを取得\n",
        "PassengerId = np.array(test[\"PassengerId\"]).astype(int)\n",
        "\n",
        "# my_predictionとPassengerIdをデータフレームへ落とし込む\n",
        "my_solution = pd.DataFrame(pred,PassengerId,columns = [\"Survived\"])\n",
        "\n",
        "# my_tree_one.csvとして出力\n",
        "my_solution.to_csv(\"/content/my_randomforest_one.csv\",index_label = [\"PassengerId\"])"
      ],
      "execution_count": null,
      "outputs": []
    },
    {
      "cell_type": "code",
      "metadata": {
        "id": "zNLZZ-MsX_ck",
        "colab_type": "code",
        "colab": {}
      },
      "source": [
        "#ベイジアン推定\n",
        "from sklearn.naive_bayes import BernoulliNB"
      ],
      "execution_count": null,
      "outputs": []
    },
    {
      "cell_type": "code",
      "metadata": {
        "id": "oKfPeU_CYJF0",
        "colab_type": "code",
        "colab": {
          "base_uri": "https://localhost:8080/",
          "height": 34
        },
        "outputId": "9938835f-e9a0-44cb-bfd2-09394b5df285"
      },
      "source": [
        "clf = BernoulliNB()\n",
        "clf.fit(features_one_std,target)\n",
        "#学習データのスコア\n",
        "print(clf.score(features_one,target))"
      ],
      "execution_count": null,
      "outputs": [
        {
          "output_type": "stream",
          "text": [
            "0.8174178762414056\n"
          ],
          "name": "stdout"
        }
      ]
    },
    {
      "cell_type": "code",
      "metadata": {
        "id": "RnOs-tZfYMSe",
        "colab_type": "code",
        "colab": {}
      },
      "source": [
        "pred = clf.predict(test_features_std)\n",
        "\n",
        "# PassengerIDを取得\n",
        "PassengerId = np.array(test[\"PassengerId\"]).astype(int)\n",
        "\n",
        "# my_predictionとPassengerIdをデータフレームへ落とし込む\n",
        "my_solution = pd.DataFrame(pred,PassengerId,columns = [\"Survived\"])\n",
        "\n",
        "# my_tree_one.csvとして出力\n",
        "my_solution.to_csv(\"/content/my_baysian_one.csv\",index_label = [\"PassengerId\"])"
      ],
      "execution_count": null,
      "outputs": []
    },
    {
      "cell_type": "code",
      "metadata": {
        "id": "0L139N7uYyAt",
        "colab_type": "code",
        "colab": {}
      },
      "source": [
        "import pandas as pd\n",
        "\n",
        "sub_baysian = pd.read_csv('/content/my_baysian_one.csv')\n",
        "sub_dl = pd.read_csv('/content/my_dl_one.csv')\n",
        "sub_kneighbors = pd.read_csv('/content/my_kneighbors_one.csv')\n",
        "sub_logistic = pd.read_csv(\"/content/my_logistic_one.csv\")\n",
        "sub_randomforest = pd.read_csv(\"/content/my_randomforest_one.csv\")\n",
        "sub_svm = pd.read_csv(\"/content/my_svm_one.csv\")"
      ],
      "execution_count": null,
      "outputs": []
    },
    {
      "cell_type": "code",
      "metadata": {
        "id": "pICnXv7fZkO2",
        "colab_type": "code",
        "colab": {}
      },
      "source": [
        "sub = pd.DataFrame(pd.read_csv('/content/test.csv')['PassengerId'])\n",
        "sub['Survived'] = sub_baysian['Survived'] + sub_dl['Survived'] + sub_kneighbors['Survived']+sub_logistic['Survived'] + sub_randomforest['Survived'] + sub_svm['Survived']\n",
        "sub['Survived'] = (sub['Survived'] >= 5).astype(int)\n",
        "sub.to_csv('/content/ensemble.csv', index=False)"
      ],
      "execution_count": null,
      "outputs": []
    },
    {
      "cell_type": "code",
      "metadata": {
        "id": "rp5YidZkaQUd",
        "colab_type": "code",
        "colab": {}
      },
      "source": [
        ""
      ],
      "execution_count": null,
      "outputs": []
    }
  ]
}