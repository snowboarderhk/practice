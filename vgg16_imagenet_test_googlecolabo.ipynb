{
  "nbformat": 4,
  "nbformat_minor": 0,
  "metadata": {
    "colab": {
      "name": "Untitled23.ipynb",
      "provenance": [],
      "authorship_tag": "ABX9TyOhUsnONoafkSaUi2YMmfTf",
      "include_colab_link": true
    },
    "kernelspec": {
      "name": "python3",
      "display_name": "Python 3"
    }
  },
  "cells": [
    {
      "cell_type": "markdown",
      "metadata": {
        "id": "view-in-github",
        "colab_type": "text"
      },
      "source": [
        "<a href=\"https://colab.research.google.com/github/snowboarderhk/practice/blob/master/vgg16_imagenet_test_googlecolabo.ipynb\" target=\"_parent\"><img src=\"https://colab.research.google.com/assets/colab-badge.svg\" alt=\"Open In Colab\"/></a>"
      ]
    },
    {
      "cell_type": "code",
      "metadata": {
        "id": "twUaE62718a8",
        "colab_type": "code",
        "colab": {}
      },
      "source": [
        "# https://note.nkmk.me/python-tensorflow-keras-applications-pretrained-models/ 参考URL\n",
        "\n",
        "import tensorflow as tf\n",
        "import pprint\n",
        "\n",
        "model = tf.keras.applications.vgg16.VGG16(weights='imagenet')"
      ],
      "execution_count": 4,
      "outputs": []
    },
    {
      "cell_type": "code",
      "metadata": {
        "id": "OgdGyS_D2wLU",
        "colab_type": "code",
        "colab": {}
      },
      "source": [
        "img_pil = tf.keras.preprocessing.image.load_img(\n",
        "    '/content/chi.jpg', target_size=(224, 224)\n",
        ")"
      ],
      "execution_count": 5,
      "outputs": []
    },
    {
      "cell_type": "code",
      "metadata": {
        "id": "6DvDUiSa3B7-",
        "colab_type": "code",
        "colab": {
          "base_uri": "https://localhost:8080/",
          "height": 102
        },
        "outputId": "b7fde9e7-bee1-4ab8-9498-499fdadd61ad"
      },
      "source": [
        "img = tf.keras.applications.vgg16.preprocess_input(\n",
        "    tf.keras.preprocessing.image.img_to_array(img_pil)[tf.newaxis]\n",
        ")\n",
        "\n",
        "predict = model.predict(img)\n",
        "\n",
        "result = tf.keras.applications.vgg16.decode_predictions(predict, top=5)\n",
        "pprint.pprint(result)"
      ],
      "execution_count": 6,
      "outputs": [
        {
          "output_type": "stream",
          "text": [
            "[[('n02085620', 'Chihuahua', 0.78553325),\n",
            "  ('n02112018', 'Pomeranian', 0.11516815),\n",
            "  ('n02086910', 'papillon', 0.06643261),\n",
            "  ('n02085782', 'Japanese_spaniel', 0.010411588),\n",
            "  ('n02086079', 'Pekinese', 0.009296608)]]\n"
          ],
          "name": "stdout"
        }
      ]
    },
    {
      "cell_type": "code",
      "metadata": {
        "id": "oMp8Qpdf3Lj8",
        "colab_type": "code",
        "colab": {}
      },
      "source": [
        ""
      ],
      "execution_count": null,
      "outputs": []
    }
  ]
}